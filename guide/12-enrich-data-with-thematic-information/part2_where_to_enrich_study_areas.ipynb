{
 "cells": [
  {
   "cell_type": "markdown",
   "metadata": {
    "slideshow": {
     "slide_type": "slide"
    }
   },
   "source": [
    "# Part 2 - Where to enrich? (what are study areas?)"
   ]
  },
  {
   "cell_type": "markdown",
   "metadata": {
    "slideshow": {
     "slide_type": "skip"
    }
   },
   "source": [
    "## Enriching Study Areas\n",
    "GeoEnrichment uses the concept of a study area to define the location of the point or area that you want to enrich with additional information or create reports about. The accepted forms of study areas are:\n",
    "1. Street address locations\n",
    "    - a. Single line input\n",
    "    - b. Multiple field input\n",
    "2. Point, line and polygon geometries \n",
    "3. Buffered study areas\n",
    "4. Named statistical areas\n",
    "\n",
    "Before we look at the exmaples of study areas, let's understand the concept of Data collections and analysis variables. We will look at Data collections in detail in a later section."
   ]
  },
  {
   "cell_type": "markdown",
   "metadata": {
    "slideshow": {
     "slide_type": "subslide"
    }
   },
   "source": [
    "### Data collections and analysis variables\n",
    "GeoEnrichment uses the concept of a data collection to define the data attributes (analysis variables) returned by the enrichment service. A data collection is a preassembled list of attributes that will be used to enrich the input features. Collection attributes can describe various types of information, such as demographic characteristics and geographic context of the locations or areas submitted as input features. We will introduce the concept of data collections here and look at the details in the next guide.\n",
    "\n",
    "The `Country` class can be used to discover the data collections, sub-geographies and available reports for a country. When working with a particular country, you will find it convenient to get a reference to it using the Country.get() method. \n",
    "\n",
    "The `data_collections` property of a `Country` object lists a combination of available data collections and analysis variables for each data collection as a [Pandas](https://pandas.pydata.org/) dataframe. \n",
    "\n",
    "Once we know the data collection we would like to use, we can look at all the unique `analysisVariable`  available in that data collection."
   ]
  },
  {
   "cell_type": "code",
   "execution_count": 1,
   "metadata": {},
   "outputs": [],
   "source": [
    "# Import Libraries\n",
    "from arcgis.gis import GIS\n",
    "from arcgis.geoenrichment import Country, enrich, BufferStudyArea"
   ]
  },
  {
   "cell_type": "code",
   "execution_count": 2,
   "metadata": {},
   "outputs": [],
   "source": [
    "# Create a GIS Connection\n",
    "gis = GIS(profile='your_online_profile')"
   ]
  },
  {
   "cell_type": "code",
   "execution_count": 3,
   "metadata": {},
   "outputs": [
    {
     "data": {
      "text/plain": [
       "arcgis.geoenrichment.enrichment.Country"
      ]
     },
     "execution_count": 3,
     "metadata": {},
     "output_type": "execute_result"
    }
   ],
   "source": [
    "# Get US as a country\n",
    "usa = Country.get('US')\n",
    "type(usa)"
   ]
  },
  {
   "cell_type": "code",
   "execution_count": 4,
   "metadata": {
    "scrolled": true,
    "slideshow": {
     "slide_type": "fragment"
    }
   },
   "outputs": [
    {
     "data": {
      "text/html": [
       "<div>\n",
       "<style scoped>\n",
       "    .dataframe tbody tr th:only-of-type {\n",
       "        vertical-align: middle;\n",
       "    }\n",
       "\n",
       "    .dataframe tbody tr th {\n",
       "        vertical-align: top;\n",
       "    }\n",
       "\n",
       "    .dataframe thead th {\n",
       "        text-align: right;\n",
       "    }\n",
       "</style>\n",
       "<table border=\"1\" class=\"dataframe\">\n",
       "  <thead>\n",
       "    <tr style=\"text-align: right;\">\n",
       "      <th></th>\n",
       "      <th>analysisVariable</th>\n",
       "      <th>alias</th>\n",
       "      <th>fieldCategory</th>\n",
       "      <th>vintage</th>\n",
       "    </tr>\n",
       "    <tr>\n",
       "      <th>dataCollectionID</th>\n",
       "      <th></th>\n",
       "      <th></th>\n",
       "      <th></th>\n",
       "      <th></th>\n",
       "    </tr>\n",
       "  </thead>\n",
       "  <tbody>\n",
       "    <tr>\n",
       "      <th>1yearincrements</th>\n",
       "      <td>1yearincrements.AGE0_CY</td>\n",
       "      <td>2022 Population Age &lt;1</td>\n",
       "      <td>2022 Age: 1 Year Increments (Esri)</td>\n",
       "      <td>2022</td>\n",
       "    </tr>\n",
       "    <tr>\n",
       "      <th>1yearincrements</th>\n",
       "      <td>1yearincrements.AGE1_CY</td>\n",
       "      <td>2022 Population Age 1</td>\n",
       "      <td>2022 Age: 1 Year Increments (Esri)</td>\n",
       "      <td>2022</td>\n",
       "    </tr>\n",
       "    <tr>\n",
       "      <th>1yearincrements</th>\n",
       "      <td>1yearincrements.AGE2_CY</td>\n",
       "      <td>2022 Population Age 2</td>\n",
       "      <td>2022 Age: 1 Year Increments (Esri)</td>\n",
       "      <td>2022</td>\n",
       "    </tr>\n",
       "    <tr>\n",
       "      <th>1yearincrements</th>\n",
       "      <td>1yearincrements.AGE3_CY</td>\n",
       "      <td>2022 Population Age 3</td>\n",
       "      <td>2022 Age: 1 Year Increments (Esri)</td>\n",
       "      <td>2022</td>\n",
       "    </tr>\n",
       "    <tr>\n",
       "      <th>1yearincrements</th>\n",
       "      <td>1yearincrements.AGE4_CY</td>\n",
       "      <td>2022 Population Age 4</td>\n",
       "      <td>2022 Age: 1 Year Increments (Esri)</td>\n",
       "      <td>2022</td>\n",
       "    </tr>\n",
       "  </tbody>\n",
       "</table>\n",
       "</div>"
      ],
      "text/plain": [
       "                         analysisVariable                   alias  \\\n",
       "dataCollectionID                                                    \n",
       "1yearincrements   1yearincrements.AGE0_CY  2022 Population Age <1   \n",
       "1yearincrements   1yearincrements.AGE1_CY   2022 Population Age 1   \n",
       "1yearincrements   1yearincrements.AGE2_CY   2022 Population Age 2   \n",
       "1yearincrements   1yearincrements.AGE3_CY   2022 Population Age 3   \n",
       "1yearincrements   1yearincrements.AGE4_CY   2022 Population Age 4   \n",
       "\n",
       "                                       fieldCategory vintage  \n",
       "dataCollectionID                                              \n",
       "1yearincrements   2022 Age: 1 Year Increments (Esri)    2022  \n",
       "1yearincrements   2022 Age: 1 Year Increments (Esri)    2022  \n",
       "1yearincrements   2022 Age: 1 Year Increments (Esri)    2022  \n",
       "1yearincrements   2022 Age: 1 Year Increments (Esri)    2022  \n",
       "1yearincrements   2022 Age: 1 Year Increments (Esri)    2022  "
      ]
     },
     "execution_count": 4,
     "metadata": {},
     "output_type": "execute_result"
    }
   ],
   "source": [
    "df = usa.data_collections\n",
    "\n",
    "# print a few rows of the DataFrame\n",
    "df.head()"
   ]
  },
  {
   "cell_type": "code",
   "execution_count": 5,
   "metadata": {},
   "outputs": [
    {
     "data": {
      "text/plain": [
       "(18946, 4)"
      ]
     },
     "execution_count": 5,
     "metadata": {},
     "output_type": "execute_result"
    }
   ],
   "source": [
    "# call the shape property to get the total number of rows and columns\n",
    "df.shape"
   ]
  },
  {
   "cell_type": "markdown",
   "metadata": {
    "slideshow": {
     "slide_type": "skip"
    }
   },
   "source": [
    "Each data collection can have multiple analysis variables as seen in the table above. Every such analysis variable has a unique ID, found in the `analysisVariable` column. When calling the `enrich()` method, these analysis variables can be passed in the `data_collections` and `analysis_variables` parameters.\n",
    "\n",
    "You can filter the `data_collections` and query the collections `analysis_variables` using Pandas expressions."
   ]
  },
  {
   "cell_type": "code",
   "execution_count": 6,
   "metadata": {
    "scrolled": true,
    "slideshow": {
     "slide_type": "subslide"
    }
   },
   "outputs": [
    {
     "data": {
      "text/plain": [
       "Index(['1yearincrements', '5yearincrements', 'Age', 'agebyracebysex',\n",
       "       'AgeDependency', 'AtRisk', 'AutomobilesAutomotiveProducts',\n",
       "       'BabyProductsToysGames', 'basicFactsForMobileApps', 'businesses',\n",
       "       ...\n",
       "       'travelMPI', 'unitsinstructure', 'urbanizationgroupsNEW', 'vacant',\n",
       "       'vehiclesavailable', 'veterans', 'Wealth', 'women', 'yearbuilt',\n",
       "       'yearmovedin'],\n",
       "      dtype='object', name='dataCollectionID', length=115)"
      ]
     },
     "execution_count": 6,
     "metadata": {},
     "output_type": "execute_result"
    }
   ],
   "source": [
    "# get all the unique data collections available for the current country\n",
    "df.index.unique()"
   ]
  },
  {
   "cell_type": "markdown",
   "metadata": {},
   "source": [
    "The snippet below shows how you can query the `Age` data collection and get all the unique `analysisVariable`s under that collection."
   ]
  },
  {
   "cell_type": "code",
   "execution_count": 7,
   "metadata": {
    "scrolled": true,
    "slideshow": {
     "slide_type": "subslide"
    }
   },
   "outputs": [
    {
     "data": {
      "text/plain": [
       "array(['Age.MALE0', 'Age.MALE5', 'Age.MALE10', 'Age.MALE15', 'Age.MALE20',\n",
       "       'Age.MALE25', 'Age.MALE30', 'Age.MALE35', 'Age.MALE40',\n",
       "       'Age.MALE45', 'Age.MALE50', 'Age.MALE55', 'Age.MALE60',\n",
       "       'Age.MALE65', 'Age.MALE70', 'Age.MALE75', 'Age.MALE80',\n",
       "       'Age.MALE85', 'Age.FEM0', 'Age.FEM5', 'Age.FEM10', 'Age.FEM15',\n",
       "       'Age.FEM20', 'Age.FEM25', 'Age.FEM30', 'Age.FEM35', 'Age.FEM40',\n",
       "       'Age.FEM45', 'Age.FEM50', 'Age.FEM55', 'Age.FEM60', 'Age.FEM65',\n",
       "       'Age.FEM70', 'Age.FEM75', 'Age.FEM80', 'Age.FEM85'], dtype=object)"
      ]
     },
     "execution_count": 7,
     "metadata": {},
     "output_type": "execute_result"
    }
   ],
   "source": [
    "df.loc['Age']['analysisVariable'].unique()"
   ]
  },
  {
   "cell_type": "code",
   "execution_count": 8,
   "metadata": {},
   "outputs": [
    {
     "data": {
      "text/html": [
       "<div>\n",
       "<style scoped>\n",
       "    .dataframe tbody tr th:only-of-type {\n",
       "        vertical-align: middle;\n",
       "    }\n",
       "\n",
       "    .dataframe tbody tr th {\n",
       "        vertical-align: top;\n",
       "    }\n",
       "\n",
       "    .dataframe thead th {\n",
       "        text-align: right;\n",
       "    }\n",
       "</style>\n",
       "<table border=\"1\" class=\"dataframe\">\n",
       "  <thead>\n",
       "    <tr style=\"text-align: right;\">\n",
       "      <th></th>\n",
       "      <th>analysisVariable</th>\n",
       "      <th>alias</th>\n",
       "      <th>fieldCategory</th>\n",
       "      <th>vintage</th>\n",
       "    </tr>\n",
       "    <tr>\n",
       "      <th>dataCollectionID</th>\n",
       "      <th></th>\n",
       "      <th></th>\n",
       "      <th></th>\n",
       "      <th></th>\n",
       "    </tr>\n",
       "  </thead>\n",
       "  <tbody>\n",
       "    <tr>\n",
       "      <th>Age</th>\n",
       "      <td>Age.MALE0</td>\n",
       "      <td>2022 Males Age 0-4</td>\n",
       "      <td>2022 Age: 5 Year Increments (Esri)</td>\n",
       "      <td>2022</td>\n",
       "    </tr>\n",
       "    <tr>\n",
       "      <th>Age</th>\n",
       "      <td>Age.MALE5</td>\n",
       "      <td>2022 Males Age 5-9</td>\n",
       "      <td>2022 Age: 5 Year Increments (Esri)</td>\n",
       "      <td>2022</td>\n",
       "    </tr>\n",
       "    <tr>\n",
       "      <th>Age</th>\n",
       "      <td>Age.MALE10</td>\n",
       "      <td>2022 Males Age 10-14</td>\n",
       "      <td>2022 Age: 5 Year Increments (Esri)</td>\n",
       "      <td>2022</td>\n",
       "    </tr>\n",
       "    <tr>\n",
       "      <th>Age</th>\n",
       "      <td>Age.MALE15</td>\n",
       "      <td>2022 Males Age 15-19</td>\n",
       "      <td>2022 Age: 5 Year Increments (Esri)</td>\n",
       "      <td>2022</td>\n",
       "    </tr>\n",
       "    <tr>\n",
       "      <th>Age</th>\n",
       "      <td>Age.MALE20</td>\n",
       "      <td>2022 Males Age 20-24</td>\n",
       "      <td>2022 Age: 5 Year Increments (Esri)</td>\n",
       "      <td>2022</td>\n",
       "    </tr>\n",
       "  </tbody>\n",
       "</table>\n",
       "</div>"
      ],
      "text/plain": [
       "                 analysisVariable                 alias  \\\n",
       "dataCollectionID                                          \n",
       "Age                     Age.MALE0    2022 Males Age 0-4   \n",
       "Age                     Age.MALE5    2022 Males Age 5-9   \n",
       "Age                    Age.MALE10  2022 Males Age 10-14   \n",
       "Age                    Age.MALE15  2022 Males Age 15-19   \n",
       "Age                    Age.MALE20  2022 Males Age 20-24   \n",
       "\n",
       "                                       fieldCategory vintage  \n",
       "dataCollectionID                                              \n",
       "Age               2022 Age: 5 Year Increments (Esri)    2022  \n",
       "Age               2022 Age: 5 Year Increments (Esri)    2022  \n",
       "Age               2022 Age: 5 Year Increments (Esri)    2022  \n",
       "Age               2022 Age: 5 Year Increments (Esri)    2022  \n",
       "Age               2022 Age: 5 Year Increments (Esri)    2022  "
      ]
     },
     "execution_count": 8,
     "metadata": {},
     "output_type": "execute_result"
    }
   ],
   "source": [
    "# View a sample of the `Age` data collection\n",
    "df.loc['Age'].head()"
   ]
  },
  {
   "cell_type": "markdown",
   "metadata": {},
   "source": [
    "Now, let's look at some examples of enriching each of the study areas."
   ]
  },
  {
   "cell_type": "markdown",
   "metadata": {
    "slideshow": {
     "slide_type": "subslide"
    }
   },
   "source": [
    "### Enriching street address\n",
    "Street address locations can be passed as strings of input street addresses, points of interest or place names. A street address can be passed as a single line or as a multiple field input. If a point (e.g. a street address) is used as a study area, the service will create a 1 mile ring buffer around the point to collect and append enrichment data. \n",
    "\n",
    "The example below uses a `street address` as a study area for enrichment using `Age` data collection."
   ]
  },
  {
   "cell_type": "markdown",
   "metadata": {},
   "source": [
    "#### Single line address"
   ]
  },
  {
   "cell_type": "code",
   "execution_count": 9,
   "metadata": {
    "slideshow": {
     "slide_type": "-"
    }
   },
   "outputs": [],
   "source": [
    "# Enriching single address as single line imput\n",
    "single_address = enrich(study_areas=[\"380 New York St Redlands CA 92373\"], \n",
    "                       data_collections=['Age'])"
   ]
  },
  {
   "cell_type": "code",
   "execution_count": 10,
   "metadata": {},
   "outputs": [
    {
     "data": {
      "text/html": [
       "<div>\n",
       "<style scoped>\n",
       "    .dataframe tbody tr th:only-of-type {\n",
       "        vertical-align: middle;\n",
       "    }\n",
       "\n",
       "    .dataframe tbody tr th {\n",
       "        vertical-align: top;\n",
       "    }\n",
       "\n",
       "    .dataframe thead th {\n",
       "        text-align: right;\n",
       "    }\n",
       "</style>\n",
       "<table border=\"1\" class=\"dataframe\">\n",
       "  <thead>\n",
       "    <tr style=\"text-align: right;\">\n",
       "      <th></th>\n",
       "      <th>source_country</th>\n",
       "      <th>x</th>\n",
       "      <th>y</th>\n",
       "      <th>area_type</th>\n",
       "      <th>buffer_units</th>\n",
       "      <th>buffer_units_alias</th>\n",
       "      <th>buffer_radii</th>\n",
       "      <th>aggregation_method</th>\n",
       "      <th>population_to_polygon_size_rating</th>\n",
       "      <th>apportionment_confidence</th>\n",
       "      <th>...</th>\n",
       "      <th>fem45</th>\n",
       "      <th>fem50</th>\n",
       "      <th>fem55</th>\n",
       "      <th>fem60</th>\n",
       "      <th>fem65</th>\n",
       "      <th>fem70</th>\n",
       "      <th>fem75</th>\n",
       "      <th>fem80</th>\n",
       "      <th>fem85</th>\n",
       "      <th>SHAPE</th>\n",
       "    </tr>\n",
       "  </thead>\n",
       "  <tbody>\n",
       "    <tr>\n",
       "      <th>0</th>\n",
       "      <td>USA</td>\n",
       "      <td>-117.19479</td>\n",
       "      <td>34.057265</td>\n",
       "      <td>RingBuffer</td>\n",
       "      <td>esriMiles</td>\n",
       "      <td>Miles</td>\n",
       "      <td>1.0</td>\n",
       "      <td>BlockApportionment:US.BlockGroups;PointsLayer:...</td>\n",
       "      <td>2.191</td>\n",
       "      <td>2.576</td>\n",
       "      <td>...</td>\n",
       "      <td>366.0</td>\n",
       "      <td>392.0</td>\n",
       "      <td>365.0</td>\n",
       "      <td>345.0</td>\n",
       "      <td>322.0</td>\n",
       "      <td>277.0</td>\n",
       "      <td>168.0</td>\n",
       "      <td>103.0</td>\n",
       "      <td>132.0</td>\n",
       "      <td>{\"rings\": [[[-117.19479001927878, 34.071773611...</td>\n",
       "    </tr>\n",
       "  </tbody>\n",
       "</table>\n",
       "<p>1 rows × 48 columns</p>\n",
       "</div>"
      ],
      "text/plain": [
       "  source_country          x          y   area_type buffer_units  \\\n",
       "0            USA -117.19479  34.057265  RingBuffer    esriMiles   \n",
       "\n",
       "  buffer_units_alias  buffer_radii  \\\n",
       "0              Miles           1.0   \n",
       "\n",
       "                                  aggregation_method  \\\n",
       "0  BlockApportionment:US.BlockGroups;PointsLayer:...   \n",
       "\n",
       "   population_to_polygon_size_rating  apportionment_confidence  ...  fem45  \\\n",
       "0                              2.191                     2.576  ...  366.0   \n",
       "\n",
       "   fem50  fem55  fem60  fem65  fem70  fem75  fem80  fem85  \\\n",
       "0  392.0  365.0  345.0  322.0  277.0  168.0  103.0  132.0   \n",
       "\n",
       "                                               SHAPE  \n",
       "0  {\"rings\": [[[-117.19479001927878, 34.071773611...  \n",
       "\n",
       "[1 rows x 48 columns]"
      ]
     },
     "execution_count": 10,
     "metadata": {},
     "output_type": "execute_result"
    }
   ],
   "source": [
    "single_address"
   ]
  },
  {
   "cell_type": "markdown",
   "metadata": {},
   "source": [
    "##### Visualize results on a map\n",
    "\n",
    "The returned spatial dataframe can be visualized on a map as shown below:"
   ]
  },
  {
   "cell_type": "code",
   "execution_count": 11,
   "metadata": {},
   "outputs": [
    {
     "data": {
      "application/vnd.jupyter.widget-view+json": {
       "model_id": "e8782623a1fe4deb917f5de8251386fc",
       "version_major": 2,
       "version_minor": 0
      },
      "text/plain": [
       "MapView(layout=Layout(height='400px', width='100%'))"
      ]
     },
     "metadata": {},
     "output_type": "display_data"
    },
    {
     "data": {
      "text/html": [
       "<div class=\"map-static-img-preview-29d3d834-af06-4d49-86b7-65770f64f047\"><img src=\"\"></img></div>"
      ],
      "text/plain": [
       "<IPython.core.display.HTML object>"
      ]
     },
     "metadata": {},
     "output_type": "display_data"
    },
    {
     "data": {
      "text/html": [
       "<div class=\"map-html-embed-preview-29d3d834-af06-4d49-86b7-65770f64f047\"></div>"
      ],
      "text/plain": [
       "<IPython.core.display.HTML object>"
      ]
     },
     "metadata": {},
     "output_type": "display_data"
    }
   ],
   "source": [
    "# Plot on a map\n",
    "address_map = gis.map('Redlands, CA',13)\n",
    "address_map"
   ]
  },
  {
   "cell_type": "markdown",
   "metadata": {},
   "source": [
    "A buffer of 1 mile is created by default, as seen on this map, for any address."
   ]
  },
  {
   "cell_type": "code",
   "execution_count": 12,
   "metadata": {},
   "outputs": [
    {
     "data": {
      "text/plain": [
       "True"
      ]
     },
     "execution_count": 12,
     "metadata": {},
     "output_type": "execute_result"
    }
   ],
   "source": [
    "single_address.spatial.plot(address_map)"
   ]
  },
  {
   "cell_type": "markdown",
   "metadata": {},
   "source": [
    "__Multiple addresses as single line input__"
   ]
  },
  {
   "cell_type": "code",
   "execution_count": 13,
   "metadata": {},
   "outputs": [
    {
     "data": {
      "text/html": [
       "<div>\n",
       "<style scoped>\n",
       "    .dataframe tbody tr th:only-of-type {\n",
       "        vertical-align: middle;\n",
       "    }\n",
       "\n",
       "    .dataframe tbody tr th {\n",
       "        vertical-align: top;\n",
       "    }\n",
       "\n",
       "    .dataframe thead th {\n",
       "        text-align: right;\n",
       "    }\n",
       "</style>\n",
       "<table border=\"1\" class=\"dataframe\">\n",
       "  <thead>\n",
       "    <tr style=\"text-align: right;\">\n",
       "      <th></th>\n",
       "      <th>source_country</th>\n",
       "      <th>x</th>\n",
       "      <th>y</th>\n",
       "      <th>area_type</th>\n",
       "      <th>buffer_units</th>\n",
       "      <th>buffer_units_alias</th>\n",
       "      <th>buffer_radii</th>\n",
       "      <th>aggregation_method</th>\n",
       "      <th>population_to_polygon_size_rating</th>\n",
       "      <th>apportionment_confidence</th>\n",
       "      <th>...</th>\n",
       "      <th>ecypfa4549</th>\n",
       "      <th>ecypfa5054</th>\n",
       "      <th>ecypfa5559</th>\n",
       "      <th>ecypfa6064</th>\n",
       "      <th>ecypfa6569</th>\n",
       "      <th>ecypfa7074</th>\n",
       "      <th>ecypfa7579</th>\n",
       "      <th>ecypfa8084</th>\n",
       "      <th>ecypfa85_p</th>\n",
       "      <th>SHAPE</th>\n",
       "    </tr>\n",
       "  </thead>\n",
       "  <tbody>\n",
       "    <tr>\n",
       "      <th>0</th>\n",
       "      <td>CAN</td>\n",
       "      <td>-79.328779</td>\n",
       "      <td>43.729724</td>\n",
       "      <td>RingBuffer</td>\n",
       "      <td>esriMiles</td>\n",
       "      <td>Miles</td>\n",
       "      <td>1.0</td>\n",
       "      <td>BlockApportionment:CAN.DA;PointsLayer:CAN.Bloc...</td>\n",
       "      <td>-1.0</td>\n",
       "      <td>-1.0</td>\n",
       "      <td>...</td>\n",
       "      <td>1307.0</td>\n",
       "      <td>1256.0</td>\n",
       "      <td>1282.0</td>\n",
       "      <td>1165.0</td>\n",
       "      <td>1175.0</td>\n",
       "      <td>1035.0</td>\n",
       "      <td>857.0</td>\n",
       "      <td>597.0</td>\n",
       "      <td>978.0</td>\n",
       "      <td>{\"rings\": [[[-79.32877900047636, 43.7442083312...</td>\n",
       "    </tr>\n",
       "    <tr>\n",
       "      <th>1</th>\n",
       "      <td>CAN</td>\n",
       "      <td>-117.19479</td>\n",
       "      <td>34.057265</td>\n",
       "      <td>RingBuffer</td>\n",
       "      <td>esriMiles</td>\n",
       "      <td>Miles</td>\n",
       "      <td>1.0</td>\n",
       "      <td>BlockApportionment:CAN.DA;PointsLayer:CAN.Bloc...</td>\n",
       "      <td>-1.0</td>\n",
       "      <td>-1.0</td>\n",
       "      <td>...</td>\n",
       "      <td>0.0</td>\n",
       "      <td>0.0</td>\n",
       "      <td>0.0</td>\n",
       "      <td>0.0</td>\n",
       "      <td>0.0</td>\n",
       "      <td>0.0</td>\n",
       "      <td>0.0</td>\n",
       "      <td>0.0</td>\n",
       "      <td>0.0</td>\n",
       "      <td>{\"rings\": [[[-117.19479001927878, 34.071773611...</td>\n",
       "    </tr>\n",
       "  </tbody>\n",
       "</table>\n",
       "<p>2 rows × 48 columns</p>\n",
       "</div>"
      ],
      "text/plain": [
       "  source_country          x          y   area_type buffer_units  \\\n",
       "0            CAN -79.328779  43.729724  RingBuffer    esriMiles   \n",
       "1            CAN -117.19479  34.057265  RingBuffer    esriMiles   \n",
       "\n",
       "  buffer_units_alias  buffer_radii  \\\n",
       "0              Miles           1.0   \n",
       "1              Miles           1.0   \n",
       "\n",
       "                                  aggregation_method  \\\n",
       "0  BlockApportionment:CAN.DA;PointsLayer:CAN.Bloc...   \n",
       "1  BlockApportionment:CAN.DA;PointsLayer:CAN.Bloc...   \n",
       "\n",
       "   population_to_polygon_size_rating  apportionment_confidence  ...  \\\n",
       "0                               -1.0                      -1.0  ...   \n",
       "1                               -1.0                      -1.0  ...   \n",
       "\n",
       "   ecypfa4549  ecypfa5054  ecypfa5559  ecypfa6064  ecypfa6569  ecypfa7074  \\\n",
       "0      1307.0      1256.0      1282.0      1165.0      1175.0      1035.0   \n",
       "1         0.0         0.0         0.0         0.0         0.0         0.0   \n",
       "\n",
       "   ecypfa7579  ecypfa8084  ecypfa85_p  \\\n",
       "0       857.0       597.0       978.0   \n",
       "1         0.0         0.0         0.0   \n",
       "\n",
       "                                               SHAPE  \n",
       "0  {\"rings\": [[[-79.32877900047636, 43.7442083312...  \n",
       "1  {\"rings\": [[[-117.19479001927878, 34.071773611...  \n",
       "\n",
       "[2 rows x 48 columns]"
      ]
     },
     "execution_count": 13,
     "metadata": {},
     "output_type": "execute_result"
    }
   ],
   "source": [
    "# Enriching multiple addresses as single line input\n",
    "enrich(study_areas=[{\"address\":{\"text\":\"12 Concorde Place Toronto ON M3C 3R8\",\"sourceCountry\":\"Canada\"}},\n",
    "                    {\"address\":{\"text\":\"380 New York St Redlands CA 92373\",\"sourceCountry\":\"USA\"}}], \n",
    "       data_collections=['Age'])"
   ]
  },
  {
   "cell_type": "markdown",
   "metadata": {},
   "source": [
    "#### Multiple field input"
   ]
  },
  {
   "cell_type": "code",
   "execution_count": 14,
   "metadata": {},
   "outputs": [
    {
     "data": {
      "text/html": [
       "<div>\n",
       "<style scoped>\n",
       "    .dataframe tbody tr th:only-of-type {\n",
       "        vertical-align: middle;\n",
       "    }\n",
       "\n",
       "    .dataframe tbody tr th {\n",
       "        vertical-align: top;\n",
       "    }\n",
       "\n",
       "    .dataframe thead th {\n",
       "        text-align: right;\n",
       "    }\n",
       "</style>\n",
       "<table border=\"1\" class=\"dataframe\">\n",
       "  <thead>\n",
       "    <tr style=\"text-align: right;\">\n",
       "      <th></th>\n",
       "      <th>source_country</th>\n",
       "      <th>x</th>\n",
       "      <th>y</th>\n",
       "      <th>area_type</th>\n",
       "      <th>buffer_units</th>\n",
       "      <th>buffer_units_alias</th>\n",
       "      <th>buffer_radii</th>\n",
       "      <th>aggregation_method</th>\n",
       "      <th>population_to_polygon_size_rating</th>\n",
       "      <th>apportionment_confidence</th>\n",
       "      <th>...</th>\n",
       "      <th>fem45</th>\n",
       "      <th>fem50</th>\n",
       "      <th>fem55</th>\n",
       "      <th>fem60</th>\n",
       "      <th>fem65</th>\n",
       "      <th>fem70</th>\n",
       "      <th>fem75</th>\n",
       "      <th>fem80</th>\n",
       "      <th>fem85</th>\n",
       "      <th>SHAPE</th>\n",
       "    </tr>\n",
       "  </thead>\n",
       "  <tbody>\n",
       "    <tr>\n",
       "      <th>0</th>\n",
       "      <td>USA</td>\n",
       "      <td>-117.19479</td>\n",
       "      <td>34.057265</td>\n",
       "      <td>RingBuffer</td>\n",
       "      <td>esriMiles</td>\n",
       "      <td>Miles</td>\n",
       "      <td>1.0</td>\n",
       "      <td>BlockApportionment:US.BlockGroups;PointsLayer:...</td>\n",
       "      <td>2.191</td>\n",
       "      <td>2.576</td>\n",
       "      <td>...</td>\n",
       "      <td>366.0</td>\n",
       "      <td>392.0</td>\n",
       "      <td>365.0</td>\n",
       "      <td>345.0</td>\n",
       "      <td>322.0</td>\n",
       "      <td>277.0</td>\n",
       "      <td>168.0</td>\n",
       "      <td>103.0</td>\n",
       "      <td>132.0</td>\n",
       "      <td>{\"rings\": [[[-117.19479001927878, 34.071773611...</td>\n",
       "    </tr>\n",
       "  </tbody>\n",
       "</table>\n",
       "<p>1 rows × 48 columns</p>\n",
       "</div>"
      ],
      "text/plain": [
       "  source_country          x          y   area_type buffer_units  \\\n",
       "0            USA -117.19479  34.057265  RingBuffer    esriMiles   \n",
       "\n",
       "  buffer_units_alias  buffer_radii  \\\n",
       "0              Miles           1.0   \n",
       "\n",
       "                                  aggregation_method  \\\n",
       "0  BlockApportionment:US.BlockGroups;PointsLayer:...   \n",
       "\n",
       "   population_to_polygon_size_rating  apportionment_confidence  ...  fem45  \\\n",
       "0                              2.191                     2.576  ...  366.0   \n",
       "\n",
       "   fem50  fem55  fem60  fem65  fem70  fem75  fem80  fem85  \\\n",
       "0  392.0  365.0  345.0  322.0  277.0  168.0  103.0  132.0   \n",
       "\n",
       "                                               SHAPE  \n",
       "0  {\"rings\": [[[-117.19479001927878, 34.071773611...  \n",
       "\n",
       "[1 rows x 48 columns]"
      ]
     },
     "execution_count": 14,
     "metadata": {},
     "output_type": "execute_result"
    }
   ],
   "source": [
    "enrich(study_areas=[{\"address\":{\"Address\":\"380 New York Street\", \n",
    "                                \"City\":\"Redlands\", \"Region\":\"CA\", \"Postal\":92373}}], \n",
    "       data_collections=['Age'])"
   ]
  },
  {
   "cell_type": "markdown",
   "metadata": {},
   "source": [
    "Enriching with various analysis variables for age such as `FEM45, FEM50, FEM65` etc."
   ]
  },
  {
   "cell_type": "code",
   "execution_count": 15,
   "metadata": {},
   "outputs": [
    {
     "data": {
      "text/html": [
       "<div>\n",
       "<style scoped>\n",
       "    .dataframe tbody tr th:only-of-type {\n",
       "        vertical-align: middle;\n",
       "    }\n",
       "\n",
       "    .dataframe tbody tr th {\n",
       "        vertical-align: top;\n",
       "    }\n",
       "\n",
       "    .dataframe thead th {\n",
       "        text-align: right;\n",
       "    }\n",
       "</style>\n",
       "<table border=\"1\" class=\"dataframe\">\n",
       "  <thead>\n",
       "    <tr style=\"text-align: right;\">\n",
       "      <th></th>\n",
       "      <th>source_country</th>\n",
       "      <th>x</th>\n",
       "      <th>y</th>\n",
       "      <th>area_type</th>\n",
       "      <th>buffer_units</th>\n",
       "      <th>buffer_units_alias</th>\n",
       "      <th>buffer_radii</th>\n",
       "      <th>aggregation_method</th>\n",
       "      <th>population_to_polygon_size_rating</th>\n",
       "      <th>apportionment_confidence</th>\n",
       "      <th>has_data</th>\n",
       "      <th>fem45</th>\n",
       "      <th>fem55</th>\n",
       "      <th>fem65</th>\n",
       "      <th>SHAPE</th>\n",
       "    </tr>\n",
       "  </thead>\n",
       "  <tbody>\n",
       "    <tr>\n",
       "      <th>0</th>\n",
       "      <td>USA</td>\n",
       "      <td>-117.19479</td>\n",
       "      <td>34.057265</td>\n",
       "      <td>RingBuffer</td>\n",
       "      <td>esriMiles</td>\n",
       "      <td>Miles</td>\n",
       "      <td>1.0</td>\n",
       "      <td>BlockApportionment:US.BlockGroups;PointsLayer:...</td>\n",
       "      <td>2.191</td>\n",
       "      <td>2.576</td>\n",
       "      <td>1</td>\n",
       "      <td>366.0</td>\n",
       "      <td>365.0</td>\n",
       "      <td>322.0</td>\n",
       "      <td>{\"rings\": [[[-117.19479001927878, 34.071773611...</td>\n",
       "    </tr>\n",
       "  </tbody>\n",
       "</table>\n",
       "</div>"
      ],
      "text/plain": [
       "  source_country          x          y   area_type buffer_units  \\\n",
       "0            USA -117.19479  34.057265  RingBuffer    esriMiles   \n",
       "\n",
       "  buffer_units_alias  buffer_radii  \\\n",
       "0              Miles           1.0   \n",
       "\n",
       "                                  aggregation_method  \\\n",
       "0  BlockApportionment:US.BlockGroups;PointsLayer:...   \n",
       "\n",
       "   population_to_polygon_size_rating  apportionment_confidence  has_data  \\\n",
       "0                              2.191                     2.576         1   \n",
       "\n",
       "   fem45  fem55  fem65                                              SHAPE  \n",
       "0  366.0  365.0  322.0  {\"rings\": [[[-117.19479001927878, 34.071773611...  "
      ]
     },
     "execution_count": 15,
     "metadata": {},
     "output_type": "execute_result"
    }
   ],
   "source": [
    "enrich(study_areas=[\"380 New York St Redlands CA 92373\"], \n",
    "       analysis_variables=[\"Age.FEM45\",\"Age.FEM55\",\"Age.FEM65\"])"
   ]
  },
  {
   "cell_type": "markdown",
   "metadata": {},
   "source": [
    "### Enriching point, line and polygon geometries\n",
    "\n",
    "Point geometries can be passed as x and y coordinates to `study_areas` parameter. When points are specified as study areas, the service will analyze map areas surrounding or associated with the input point locations. Unless otherwise specified, the service will analyze a one mile ring around a point. This is also true for a line. Locations can also be given as polygon geometries."
   ]
  },
  {
   "cell_type": "markdown",
   "metadata": {},
   "source": [
    "#### Single Point described as map coordinates"
   ]
  },
  {
   "cell_type": "code",
   "execution_count": 16,
   "metadata": {},
   "outputs": [],
   "source": [
    "from arcgis.geometry import Point"
   ]
  },
  {
   "cell_type": "code",
   "execution_count": 17,
   "metadata": {},
   "outputs": [
    {
     "data": {
      "text/html": [
       "<div>\n",
       "<style scoped>\n",
       "    .dataframe tbody tr th:only-of-type {\n",
       "        vertical-align: middle;\n",
       "    }\n",
       "\n",
       "    .dataframe tbody tr th {\n",
       "        vertical-align: top;\n",
       "    }\n",
       "\n",
       "    .dataframe thead th {\n",
       "        text-align: right;\n",
       "    }\n",
       "</style>\n",
       "<table border=\"1\" class=\"dataframe\">\n",
       "  <thead>\n",
       "    <tr style=\"text-align: right;\">\n",
       "      <th></th>\n",
       "      <th>source_country</th>\n",
       "      <th>area_type</th>\n",
       "      <th>buffer_units</th>\n",
       "      <th>buffer_units_alias</th>\n",
       "      <th>buffer_radii</th>\n",
       "      <th>aggregation_method</th>\n",
       "      <th>population_to_polygon_size_rating</th>\n",
       "      <th>apportionment_confidence</th>\n",
       "      <th>has_data</th>\n",
       "      <th>male0</th>\n",
       "      <th>...</th>\n",
       "      <th>fem45</th>\n",
       "      <th>fem50</th>\n",
       "      <th>fem55</th>\n",
       "      <th>fem60</th>\n",
       "      <th>fem65</th>\n",
       "      <th>fem70</th>\n",
       "      <th>fem75</th>\n",
       "      <th>fem80</th>\n",
       "      <th>fem85</th>\n",
       "      <th>SHAPE</th>\n",
       "    </tr>\n",
       "  </thead>\n",
       "  <tbody>\n",
       "    <tr>\n",
       "      <th>0</th>\n",
       "      <td>USA</td>\n",
       "      <td>RingBuffer</td>\n",
       "      <td>esriMiles</td>\n",
       "      <td>Miles</td>\n",
       "      <td>1.0</td>\n",
       "      <td>BlockApportionment:US.BlockGroups;PointsLayer:...</td>\n",
       "      <td>2.191</td>\n",
       "      <td>2.576</td>\n",
       "      <td>1</td>\n",
       "      <td>462.0</td>\n",
       "      <td>...</td>\n",
       "      <td>352.0</td>\n",
       "      <td>378.0</td>\n",
       "      <td>350.0</td>\n",
       "      <td>333.0</td>\n",
       "      <td>310.0</td>\n",
       "      <td>268.0</td>\n",
       "      <td>160.0</td>\n",
       "      <td>98.0</td>\n",
       "      <td>125.0</td>\n",
       "      <td>{\"rings\": [[[-117.19559999999998, 34.071708616...</td>\n",
       "    </tr>\n",
       "  </tbody>\n",
       "</table>\n",
       "<p>1 rows × 46 columns</p>\n",
       "</div>"
      ],
      "text/plain": [
       "  source_country   area_type buffer_units buffer_units_alias  buffer_radii  \\\n",
       "0            USA  RingBuffer    esriMiles              Miles           1.0   \n",
       "\n",
       "                                  aggregation_method  \\\n",
       "0  BlockApportionment:US.BlockGroups;PointsLayer:...   \n",
       "\n",
       "   population_to_polygon_size_rating  apportionment_confidence  has_data  \\\n",
       "0                              2.191                     2.576         1   \n",
       "\n",
       "   male0  ...  fem45  fem50  fem55  fem60  fem65  fem70  fem75  fem80  fem85  \\\n",
       "0  462.0  ...  352.0  378.0  350.0  333.0  310.0  268.0  160.0   98.0  125.0   \n",
       "\n",
       "                                               SHAPE  \n",
       "0  {\"rings\": [[[-117.19559999999998, 34.071708616...  \n",
       "\n",
       "[1 rows x 46 columns]"
      ]
     },
     "execution_count": 17,
     "metadata": {},
     "output_type": "execute_result"
    }
   ],
   "source": [
    "pt = Point({\"x\" : -117.1956, \"y\" : 34.0572, \"spatialReference\" : {\"wkid\" : 4326}})\n",
    "enrich(study_areas=[pt], data_collections=['Age'])"
   ]
  },
  {
   "cell_type": "markdown",
   "metadata": {},
   "source": [
    "#### Multiple points with attributes described as map coordinates"
   ]
  },
  {
   "cell_type": "code",
   "execution_count": 18,
   "metadata": {},
   "outputs": [
    {
     "data": {
      "text/html": [
       "<div>\n",
       "<style scoped>\n",
       "    .dataframe tbody tr th:only-of-type {\n",
       "        vertical-align: middle;\n",
       "    }\n",
       "\n",
       "    .dataframe tbody tr th {\n",
       "        vertical-align: top;\n",
       "    }\n",
       "\n",
       "    .dataframe thead th {\n",
       "        text-align: right;\n",
       "    }\n",
       "</style>\n",
       "<table border=\"1\" class=\"dataframe\">\n",
       "  <thead>\n",
       "    <tr style=\"text-align: right;\">\n",
       "      <th></th>\n",
       "      <th>source_country</th>\n",
       "      <th>area_type</th>\n",
       "      <th>buffer_units</th>\n",
       "      <th>buffer_units_alias</th>\n",
       "      <th>buffer_radii</th>\n",
       "      <th>aggregation_method</th>\n",
       "      <th>population_to_polygon_size_rating</th>\n",
       "      <th>apportionment_confidence</th>\n",
       "      <th>has_data</th>\n",
       "      <th>male0</th>\n",
       "      <th>...</th>\n",
       "      <th>fem45</th>\n",
       "      <th>fem50</th>\n",
       "      <th>fem55</th>\n",
       "      <th>fem60</th>\n",
       "      <th>fem65</th>\n",
       "      <th>fem70</th>\n",
       "      <th>fem75</th>\n",
       "      <th>fem80</th>\n",
       "      <th>fem85</th>\n",
       "      <th>SHAPE</th>\n",
       "    </tr>\n",
       "  </thead>\n",
       "  <tbody>\n",
       "    <tr>\n",
       "      <th>0</th>\n",
       "      <td>USA</td>\n",
       "      <td>RingBuffer</td>\n",
       "      <td>esriMiles</td>\n",
       "      <td>Miles</td>\n",
       "      <td>1.0</td>\n",
       "      <td>BlockApportionment:US.BlockGroups;PointsLayer:...</td>\n",
       "      <td>2.191</td>\n",
       "      <td>2.576</td>\n",
       "      <td>1</td>\n",
       "      <td>1670.0</td>\n",
       "      <td>...</td>\n",
       "      <td>3013.0</td>\n",
       "      <td>2560.0</td>\n",
       "      <td>2535.0</td>\n",
       "      <td>2814.0</td>\n",
       "      <td>2677.0</td>\n",
       "      <td>2562.0</td>\n",
       "      <td>2096.0</td>\n",
       "      <td>1650.0</td>\n",
       "      <td>2327.0</td>\n",
       "      <td>{\"rings\": [[[-122.43499999999999, 37.799499596...</td>\n",
       "    </tr>\n",
       "    <tr>\n",
       "      <th>1</th>\n",
       "      <td>USA</td>\n",
       "      <td>RingBuffer</td>\n",
       "      <td>esriMiles</td>\n",
       "      <td>Miles</td>\n",
       "      <td>1.0</td>\n",
       "      <td>BlockApportionment:US.BlockGroups;PointsLayer:...</td>\n",
       "      <td>2.191</td>\n",
       "      <td>2.576</td>\n",
       "      <td>1</td>\n",
       "      <td>1554.0</td>\n",
       "      <td>...</td>\n",
       "      <td>2340.0</td>\n",
       "      <td>2273.0</td>\n",
       "      <td>2239.0</td>\n",
       "      <td>2134.0</td>\n",
       "      <td>2034.0</td>\n",
       "      <td>1726.0</td>\n",
       "      <td>1183.0</td>\n",
       "      <td>821.0</td>\n",
       "      <td>864.0</td>\n",
       "      <td>{\"rings\": [[[-122.43299999999999, 37.748499722...</td>\n",
       "    </tr>\n",
       "  </tbody>\n",
       "</table>\n",
       "<p>2 rows × 46 columns</p>\n",
       "</div>"
      ],
      "text/plain": [
       "  source_country   area_type buffer_units buffer_units_alias  buffer_radii  \\\n",
       "0            USA  RingBuffer    esriMiles              Miles           1.0   \n",
       "1            USA  RingBuffer    esriMiles              Miles           1.0   \n",
       "\n",
       "                                  aggregation_method  \\\n",
       "0  BlockApportionment:US.BlockGroups;PointsLayer:...   \n",
       "1  BlockApportionment:US.BlockGroups;PointsLayer:...   \n",
       "\n",
       "   population_to_polygon_size_rating  apportionment_confidence  has_data  \\\n",
       "0                              2.191                     2.576         1   \n",
       "1                              2.191                     2.576         1   \n",
       "\n",
       "    male0  ...   fem45   fem50   fem55   fem60   fem65   fem70   fem75  \\\n",
       "0  1670.0  ...  3013.0  2560.0  2535.0  2814.0  2677.0  2562.0  2096.0   \n",
       "1  1554.0  ...  2340.0  2273.0  2239.0  2134.0  2034.0  1726.0  1183.0   \n",
       "\n",
       "    fem80   fem85                                              SHAPE  \n",
       "0  1650.0  2327.0  {\"rings\": [[[-122.43499999999999, 37.799499596...  \n",
       "1   821.0   864.0  {\"rings\": [[[-122.43299999999999, 37.748499722...  \n",
       "\n",
       "[2 rows x 46 columns]"
      ]
     },
     "execution_count": 18,
     "metadata": {},
     "output_type": "execute_result"
    }
   ],
   "source": [
    "pt1 = Point({\"x\" : -122.435, \"y\" : 37.785, \"spatialReference\" : {\"wkid\" : 4326}})\n",
    "pt2 = Point({\"x\" : -122.433, \"y\" : 37.734, \"spatialReference\" : {\"wkid\" : 4326}})\n",
    "\n",
    "enrich(study_areas=[pt1, pt2], data_collections=['Age'])"
   ]
  },
  {
   "cell_type": "markdown",
   "metadata": {},
   "source": [
    "#### Line feature described as geometry"
   ]
  },
  {
   "cell_type": "code",
   "execution_count": 19,
   "metadata": {},
   "outputs": [],
   "source": [
    "from arcgis.geometry import Polyline"
   ]
  },
  {
   "cell_type": "code",
   "execution_count": 20,
   "metadata": {},
   "outputs": [],
   "source": [
    "line = Polyline({\"paths\":[[[-13048580,4036370],[-13046151,4036366]]],\n",
    "                 \"spatialReference\":{\"wkid\":102100}})\n",
    "enriched_line_df = enrich(study_areas=[line], data_collections=['Age'])"
   ]
  },
  {
   "cell_type": "code",
   "execution_count": 21,
   "metadata": {},
   "outputs": [
    {
     "data": {
      "text/html": [
       "<div>\n",
       "<style scoped>\n",
       "    .dataframe tbody tr th:only-of-type {\n",
       "        vertical-align: middle;\n",
       "    }\n",
       "\n",
       "    .dataframe tbody tr th {\n",
       "        vertical-align: top;\n",
       "    }\n",
       "\n",
       "    .dataframe thead th {\n",
       "        text-align: right;\n",
       "    }\n",
       "</style>\n",
       "<table border=\"1\" class=\"dataframe\">\n",
       "  <thead>\n",
       "    <tr style=\"text-align: right;\">\n",
       "      <th></th>\n",
       "      <th>source_country</th>\n",
       "      <th>area_type</th>\n",
       "      <th>buffer_units</th>\n",
       "      <th>buffer_units_alias</th>\n",
       "      <th>buffer_radii</th>\n",
       "      <th>aggregation_method</th>\n",
       "      <th>population_to_polygon_size_rating</th>\n",
       "      <th>apportionment_confidence</th>\n",
       "      <th>has_data</th>\n",
       "      <th>male0</th>\n",
       "      <th>...</th>\n",
       "      <th>fem45</th>\n",
       "      <th>fem50</th>\n",
       "      <th>fem55</th>\n",
       "      <th>fem60</th>\n",
       "      <th>fem65</th>\n",
       "      <th>fem70</th>\n",
       "      <th>fem75</th>\n",
       "      <th>fem80</th>\n",
       "      <th>fem85</th>\n",
       "      <th>SHAPE</th>\n",
       "    </tr>\n",
       "  </thead>\n",
       "  <tbody>\n",
       "    <tr>\n",
       "      <th>0</th>\n",
       "      <td>USA</td>\n",
       "      <td>RingBuffer</td>\n",
       "      <td>esriMiles</td>\n",
       "      <td>Miles</td>\n",
       "      <td>1.0</td>\n",
       "      <td>BlockApportionment:US.BlockGroups;PointsLayer:...</td>\n",
       "      <td>2.191</td>\n",
       "      <td>2.576</td>\n",
       "      <td>1</td>\n",
       "      <td>646.0</td>\n",
       "      <td>...</td>\n",
       "      <td>554.0</td>\n",
       "      <td>553.0</td>\n",
       "      <td>506.0</td>\n",
       "      <td>496.0</td>\n",
       "      <td>450.0</td>\n",
       "      <td>398.0</td>\n",
       "      <td>247.0</td>\n",
       "      <td>163.0</td>\n",
       "      <td>258.0</td>\n",
       "      <td>{\"rings\": [[[-117.21736177272676, 34.070851408...</td>\n",
       "    </tr>\n",
       "  </tbody>\n",
       "</table>\n",
       "<p>1 rows × 46 columns</p>\n",
       "</div>"
      ],
      "text/plain": [
       "  source_country   area_type buffer_units buffer_units_alias  buffer_radii  \\\n",
       "0            USA  RingBuffer    esriMiles              Miles           1.0   \n",
       "\n",
       "                                  aggregation_method  \\\n",
       "0  BlockApportionment:US.BlockGroups;PointsLayer:...   \n",
       "\n",
       "   population_to_polygon_size_rating  apportionment_confidence  has_data  \\\n",
       "0                              2.191                     2.576         1   \n",
       "\n",
       "   male0  ...  fem45  fem50  fem55  fem60  fem65  fem70  fem75  fem80  fem85  \\\n",
       "0  646.0  ...  554.0  553.0  506.0  496.0  450.0  398.0  247.0  163.0  258.0   \n",
       "\n",
       "                                               SHAPE  \n",
       "0  {\"rings\": [[[-117.21736177272676, 34.070851408...  \n",
       "\n",
       "[1 rows x 46 columns]"
      ]
     },
     "execution_count": 21,
     "metadata": {},
     "output_type": "execute_result"
    }
   ],
   "source": [
    "enriched_line_df"
   ]
  },
  {
   "cell_type": "markdown",
   "metadata": {},
   "source": [
    "##### Visualize results on a map\n",
    "\n",
    "The returned spatial dataframe can be visualized on a map as shown below:"
   ]
  },
  {
   "cell_type": "code",
   "execution_count": 22,
   "metadata": {},
   "outputs": [
    {
     "data": {
      "application/vnd.jupyter.widget-view+json": {
       "model_id": "074e170c5aea4d048e1f91cbe953aa4e",
       "version_major": 2,
       "version_minor": 0
      },
      "text/plain": [
       "MapView(layout=Layout(height='400px', width='100%'))"
      ]
     },
     "metadata": {},
     "output_type": "display_data"
    },
    {
     "data": {
      "text/html": [
       "<div class=\"map-static-img-preview-fa4175b6-77a8-40d3-abbc-5c911c5589e7\"><img src=\"\"></img></div>"
      ],
      "text/plain": [
       "<IPython.core.display.HTML object>"
      ]
     },
     "metadata": {},
     "output_type": "display_data"
    },
    {
     "data": {
      "text/html": [
       "<div class=\"map-html-embed-preview-fa4175b6-77a8-40d3-abbc-5c911c5589e7\"></div>"
      ],
      "text/plain": [
       "<IPython.core.display.HTML object>"
      ]
     },
     "metadata": {},
     "output_type": "display_data"
    }
   ],
   "source": [
    "# Plot on a map\n",
    "line_map = gis.map('Redlands, CA',13)\n",
    "line_map"
   ]
  },
  {
   "cell_type": "markdown",
   "metadata": {},
   "source": [
    "We can clearly see the line and a 1 mile buffer around the line in this map"
   ]
  },
  {
   "cell_type": "code",
   "execution_count": 23,
   "metadata": {},
   "outputs": [
    {
     "data": {
      "text/plain": [
       "True"
      ]
     },
     "execution_count": 23,
     "metadata": {},
     "output_type": "execute_result"
    }
   ],
   "source": [
    "# Draw line\n",
    "line_map.draw(line)\n",
    "\n",
    "# Plot enriched area around line\n",
    "enriched_line_df.spatial.plot(line_map)"
   ]
  },
  {
   "cell_type": "markdown",
   "metadata": {},
   "source": [
    "#### Map area described as polygons"
   ]
  },
  {
   "cell_type": "code",
   "execution_count": 24,
   "metadata": {},
   "outputs": [],
   "source": [
    "from arcgis.geometry import Polygon"
   ]
  },
  {
   "cell_type": "code",
   "execution_count": 25,
   "metadata": {},
   "outputs": [
    {
     "data": {
      "text/html": [
       "<div>\n",
       "<style scoped>\n",
       "    .dataframe tbody tr th:only-of-type {\n",
       "        vertical-align: middle;\n",
       "    }\n",
       "\n",
       "    .dataframe tbody tr th {\n",
       "        vertical-align: top;\n",
       "    }\n",
       "\n",
       "    .dataframe thead th {\n",
       "        text-align: right;\n",
       "    }\n",
       "</style>\n",
       "<table border=\"1\" class=\"dataframe\">\n",
       "  <thead>\n",
       "    <tr style=\"text-align: right;\">\n",
       "      <th></th>\n",
       "      <th>source_country</th>\n",
       "      <th>aggregation_method</th>\n",
       "      <th>population_to_polygon_size_rating</th>\n",
       "      <th>apportionment_confidence</th>\n",
       "      <th>has_data</th>\n",
       "      <th>male0</th>\n",
       "      <th>male5</th>\n",
       "      <th>male10</th>\n",
       "      <th>male15</th>\n",
       "      <th>male20</th>\n",
       "      <th>...</th>\n",
       "      <th>fem45</th>\n",
       "      <th>fem50</th>\n",
       "      <th>fem55</th>\n",
       "      <th>fem60</th>\n",
       "      <th>fem65</th>\n",
       "      <th>fem70</th>\n",
       "      <th>fem75</th>\n",
       "      <th>fem80</th>\n",
       "      <th>fem85</th>\n",
       "      <th>SHAPE</th>\n",
       "    </tr>\n",
       "  </thead>\n",
       "  <tbody>\n",
       "    <tr>\n",
       "      <th>0</th>\n",
       "      <td>USA</td>\n",
       "      <td>BlockApportionment:US.BlockGroups;PointsLayer:...</td>\n",
       "      <td>2.191</td>\n",
       "      <td>2.576</td>\n",
       "      <td>1</td>\n",
       "      <td>5430.0</td>\n",
       "      <td>5408.0</td>\n",
       "      <td>5184.0</td>\n",
       "      <td>5105.0</td>\n",
       "      <td>5001.0</td>\n",
       "      <td>...</td>\n",
       "      <td>3724.0</td>\n",
       "      <td>3770.0</td>\n",
       "      <td>3727.0</td>\n",
       "      <td>3517.0</td>\n",
       "      <td>2780.0</td>\n",
       "      <td>2157.0</td>\n",
       "      <td>1447.0</td>\n",
       "      <td>911.0</td>\n",
       "      <td>1013.0</td>\n",
       "      <td>{\"rings\": [[[-117.18541199999999, 34.063170000...</td>\n",
       "    </tr>\n",
       "  </tbody>\n",
       "</table>\n",
       "<p>1 rows × 42 columns</p>\n",
       "</div>"
      ],
      "text/plain": [
       "  source_country                                 aggregation_method  \\\n",
       "0            USA  BlockApportionment:US.BlockGroups;PointsLayer:...   \n",
       "\n",
       "   population_to_polygon_size_rating  apportionment_confidence  has_data  \\\n",
       "0                              2.191                     2.576         1   \n",
       "\n",
       "    male0   male5  male10  male15  male20  ...   fem45   fem50   fem55  \\\n",
       "0  5430.0  5408.0  5184.0  5105.0  5001.0  ...  3724.0  3770.0  3727.0   \n",
       "\n",
       "    fem60   fem65   fem70   fem75  fem80   fem85  \\\n",
       "0  3517.0  2780.0  2157.0  1447.0  911.0  1013.0   \n",
       "\n",
       "                                               SHAPE  \n",
       "0  {\"rings\": [[[-117.18541199999999, 34.063170000...  \n",
       "\n",
       "[1 rows x 42 columns]"
      ]
     },
     "execution_count": 25,
     "metadata": {},
     "output_type": "execute_result"
    }
   ],
   "source": [
    "poly = Polygon({\"rings\":[[[-117.185412,34.063170],[-122.81,37.81],\n",
    "                        [-117.200570,34.057196],[-117.185412,34.063170]]],\n",
    "                        \"spatialReference\":{\"wkid\":4326}})\n",
    "\n",
    "enrich(study_areas=[poly], data_collections=['Age'])"
   ]
  },
  {
   "cell_type": "markdown",
   "metadata": {},
   "source": [
    "### Enriching Buffered study areas\n",
    "\n",
    "`BufferStudyArea` instances are used to change the ring buffer size or create drive-time service areas around points specified using one of the above methods. BufferStudyArea allows you to buffer point and street address study areas. They can be created using the following parameters:\n",
    "        * area: the point geometry or street address (string) study area to be buffered\n",
    "        * radii: list of distances by which to buffer the study area, eg. [1, 2, 3]\n",
    "        * units: distance unit, eg. Miles, Kilometers, Minutes (when using drive times/travel_mode)\n",
    "        * overlap: boolean, uses overlapping rings/network service areas when True, or non-overlapping disks when False\n",
    "        * travel_mode: None or string, one of the supported travel modes when using network service areas\n",
    "        \n",
    "\n",
    "`BufferStudyArea` also allows you to define drive time service areas around points as well as other advanced service areas such as walking and trucking."
   ]
  },
  {
   "cell_type": "markdown",
   "metadata": {
    "slideshow": {
     "slide_type": "subslide"
    }
   },
   "source": [
    "#### Buffering location using driving distance \n",
    "\n",
    "The example below creates disks of radii 1, 3 and 5 Miles respectively from a street address and enriches these using the 'Age' data collection."
   ]
  },
  {
   "cell_type": "code",
   "execution_count": 26,
   "metadata": {
    "slideshow": {
     "slide_type": "-"
    }
   },
   "outputs": [],
   "source": [
    "buffered = BufferStudyArea(area='380 New York St Redlands CA 92373',\n",
    "                           radii=[1,3,5], units='Miles', overlap=False)\n",
    "drive_dist_df = enrich(study_areas=[buffered], data_collections=['Age'])"
   ]
  },
  {
   "cell_type": "code",
   "execution_count": 27,
   "metadata": {},
   "outputs": [
    {
     "data": {
      "text/html": [
       "<div>\n",
       "<style scoped>\n",
       "    .dataframe tbody tr th:only-of-type {\n",
       "        vertical-align: middle;\n",
       "    }\n",
       "\n",
       "    .dataframe tbody tr th {\n",
       "        vertical-align: top;\n",
       "    }\n",
       "\n",
       "    .dataframe thead th {\n",
       "        text-align: right;\n",
       "    }\n",
       "</style>\n",
       "<table border=\"1\" class=\"dataframe\">\n",
       "  <thead>\n",
       "    <tr style=\"text-align: right;\">\n",
       "      <th></th>\n",
       "      <th>source_country</th>\n",
       "      <th>x</th>\n",
       "      <th>y</th>\n",
       "      <th>area_type</th>\n",
       "      <th>buffer_units</th>\n",
       "      <th>buffer_units_alias</th>\n",
       "      <th>buffer_radii</th>\n",
       "      <th>aggregation_method</th>\n",
       "      <th>population_to_polygon_size_rating</th>\n",
       "      <th>apportionment_confidence</th>\n",
       "      <th>...</th>\n",
       "      <th>fem45</th>\n",
       "      <th>fem50</th>\n",
       "      <th>fem55</th>\n",
       "      <th>fem60</th>\n",
       "      <th>fem65</th>\n",
       "      <th>fem70</th>\n",
       "      <th>fem75</th>\n",
       "      <th>fem80</th>\n",
       "      <th>fem85</th>\n",
       "      <th>SHAPE</th>\n",
       "    </tr>\n",
       "  </thead>\n",
       "  <tbody>\n",
       "    <tr>\n",
       "      <th>0</th>\n",
       "      <td>USA</td>\n",
       "      <td>-117.19479</td>\n",
       "      <td>34.057265</td>\n",
       "      <td>RingBuffer</td>\n",
       "      <td>Miles</td>\n",
       "      <td>Miles</td>\n",
       "      <td>1.0</td>\n",
       "      <td>BlockApportionment:US.BlockGroups;PointsLayer:...</td>\n",
       "      <td>2.191</td>\n",
       "      <td>2.576</td>\n",
       "      <td>...</td>\n",
       "      <td>366.0</td>\n",
       "      <td>392.0</td>\n",
       "      <td>365.0</td>\n",
       "      <td>345.0</td>\n",
       "      <td>322.0</td>\n",
       "      <td>277.0</td>\n",
       "      <td>168.0</td>\n",
       "      <td>103.0</td>\n",
       "      <td>132.0</td>\n",
       "      <td>{\"rings\": [[[-117.19479001927878, 34.071773611...</td>\n",
       "    </tr>\n",
       "    <tr>\n",
       "      <th>1</th>\n",
       "      <td>USA</td>\n",
       "      <td>-117.19479</td>\n",
       "      <td>34.057265</td>\n",
       "      <td>RingBuffer</td>\n",
       "      <td>Miles</td>\n",
       "      <td>Miles</td>\n",
       "      <td>3.0</td>\n",
       "      <td>BlockApportionment:US.BlockGroups;PointsLayer:...</td>\n",
       "      <td>2.191</td>\n",
       "      <td>2.576</td>\n",
       "      <td>...</td>\n",
       "      <td>2336.0</td>\n",
       "      <td>2361.0</td>\n",
       "      <td>2423.0</td>\n",
       "      <td>2514.0</td>\n",
       "      <td>2218.0</td>\n",
       "      <td>1811.0</td>\n",
       "      <td>1283.0</td>\n",
       "      <td>899.0</td>\n",
       "      <td>1184.0</td>\n",
       "      <td>{\"rings\": [[[-117.19479001927878, 34.100790740...</td>\n",
       "    </tr>\n",
       "    <tr>\n",
       "      <th>2</th>\n",
       "      <td>USA</td>\n",
       "      <td>-117.19479</td>\n",
       "      <td>34.057265</td>\n",
       "      <td>RingBuffer</td>\n",
       "      <td>Miles</td>\n",
       "      <td>Miles</td>\n",
       "      <td>5.0</td>\n",
       "      <td>BlockApportionment:US.BlockGroups;PointsLayer:...</td>\n",
       "      <td>2.191</td>\n",
       "      <td>2.576</td>\n",
       "      <td>...</td>\n",
       "      <td>4717.0</td>\n",
       "      <td>4841.0</td>\n",
       "      <td>5002.0</td>\n",
       "      <td>5009.0</td>\n",
       "      <td>4336.0</td>\n",
       "      <td>3444.0</td>\n",
       "      <td>2473.0</td>\n",
       "      <td>1723.0</td>\n",
       "      <td>2258.0</td>\n",
       "      <td>{\"rings\": [[[-117.19479001927878, 34.129807732...</td>\n",
       "    </tr>\n",
       "  </tbody>\n",
       "</table>\n",
       "<p>3 rows × 48 columns</p>\n",
       "</div>"
      ],
      "text/plain": [
       "  source_country          x          y   area_type buffer_units  \\\n",
       "0            USA -117.19479  34.057265  RingBuffer        Miles   \n",
       "1            USA -117.19479  34.057265  RingBuffer        Miles   \n",
       "2            USA -117.19479  34.057265  RingBuffer        Miles   \n",
       "\n",
       "  buffer_units_alias  buffer_radii  \\\n",
       "0              Miles           1.0   \n",
       "1              Miles           3.0   \n",
       "2              Miles           5.0   \n",
       "\n",
       "                                  aggregation_method  \\\n",
       "0  BlockApportionment:US.BlockGroups;PointsLayer:...   \n",
       "1  BlockApportionment:US.BlockGroups;PointsLayer:...   \n",
       "2  BlockApportionment:US.BlockGroups;PointsLayer:...   \n",
       "\n",
       "   population_to_polygon_size_rating  apportionment_confidence  ...   fem45  \\\n",
       "0                              2.191                     2.576  ...   366.0   \n",
       "1                              2.191                     2.576  ...  2336.0   \n",
       "2                              2.191                     2.576  ...  4717.0   \n",
       "\n",
       "    fem50   fem55   fem60   fem65   fem70   fem75   fem80   fem85  \\\n",
       "0   392.0   365.0   345.0   322.0   277.0   168.0   103.0   132.0   \n",
       "1  2361.0  2423.0  2514.0  2218.0  1811.0  1283.0   899.0  1184.0   \n",
       "2  4841.0  5002.0  5009.0  4336.0  3444.0  2473.0  1723.0  2258.0   \n",
       "\n",
       "                                               SHAPE  \n",
       "0  {\"rings\": [[[-117.19479001927878, 34.071773611...  \n",
       "1  {\"rings\": [[[-117.19479001927878, 34.100790740...  \n",
       "2  {\"rings\": [[[-117.19479001927878, 34.129807732...  \n",
       "\n",
       "[3 rows x 48 columns]"
      ]
     },
     "execution_count": 27,
     "metadata": {},
     "output_type": "execute_result"
    }
   ],
   "source": [
    "drive_dist_df"
   ]
  },
  {
   "cell_type": "markdown",
   "metadata": {},
   "source": [
    "##### Visualize results on a map\n",
    "\n",
    "The returned spatial dataframe can be visualized on a map as shown below:"
   ]
  },
  {
   "cell_type": "code",
   "execution_count": 28,
   "metadata": {},
   "outputs": [
    {
     "data": {
      "application/vnd.jupyter.widget-view+json": {
       "model_id": "dd2452946c7e4c35b1c8e4d3ec86e046",
       "version_major": 2,
       "version_minor": 0
      },
      "text/plain": [
       "MapView(layout=Layout(height='400px', width='100%'))"
      ]
     },
     "metadata": {},
     "output_type": "display_data"
    },
    {
     "data": {
      "text/html": [
       "<div class=\"map-static-img-preview-7d445be9-d75f-47ff-bf44-c947361717bd\"><img src=\"\"></img></div>"
      ],
      "text/plain": [
       "<IPython.core.display.HTML object>"
      ]
     },
     "metadata": {},
     "output_type": "display_data"
    },
    {
     "data": {
      "text/html": [
       "<div class=\"map-html-embed-preview-7d445be9-d75f-47ff-bf44-c947361717bd\"></div>"
      ],
      "text/plain": [
       "<IPython.core.display.HTML object>"
      ]
     },
     "metadata": {},
     "output_type": "display_data"
    }
   ],
   "source": [
    "# Plot on a map\n",
    "buffer_map1 = gis.map('Redlands, CA')\n",
    "buffer_map1.basemap = 'dark-gray-vector'\n",
    "buffer_map1"
   ]
  },
  {
   "cell_type": "code",
   "execution_count": 29,
   "metadata": {},
   "outputs": [
    {
     "data": {
      "text/plain": [
       "True"
      ]
     },
     "execution_count": 29,
     "metadata": {},
     "output_type": "execute_result"
    }
   ],
   "source": [
    "drive_dist_df.spatial.plot(map_widget=buffer_map1,\n",
    "               renderer_type='c',  # for class breaks renderer\n",
    "               method='esriClassifyNaturalBreaks',  # classification algorithm\n",
    "               class_count=4,  # choose the number of classes\n",
    "               col='bufferRadii',  # numeric column to classify\n",
    "               cmap='viridis',  # color map to pick colors from for each class\n",
    "               alpha=0.7  # specify opacity\n",
    "               )"
   ]
  },
  {
   "cell_type": "markdown",
   "metadata": {
    "slideshow": {
     "slide_type": "subslide"
    }
   },
   "source": [
    "#### Buffering location using drive times\n",
    "\n",
    "The example below creates 5 and 10 minute drive times from a street address and enriches these using the 'Age' data collection."
   ]
  },
  {
   "cell_type": "code",
   "execution_count": 30,
   "metadata": {
    "slideshow": {
     "slide_type": "-"
    }
   },
   "outputs": [],
   "source": [
    "buffered = BufferStudyArea(area='380 New York St Redlands CA 92373', \n",
    "                           radii=[5, 10], units='Minutes', \n",
    "                           travel_mode='Driving')\n",
    "drive_time_df = enrich(study_areas=[buffered], data_collections=['Age'])"
   ]
  },
  {
   "cell_type": "code",
   "execution_count": 31,
   "metadata": {
    "slideshow": {
     "slide_type": "-"
    }
   },
   "outputs": [
    {
     "data": {
      "text/html": [
       "<div>\n",
       "<style scoped>\n",
       "    .dataframe tbody tr th:only-of-type {\n",
       "        vertical-align: middle;\n",
       "    }\n",
       "\n",
       "    .dataframe tbody tr th {\n",
       "        vertical-align: top;\n",
       "    }\n",
       "\n",
       "    .dataframe thead th {\n",
       "        text-align: right;\n",
       "    }\n",
       "</style>\n",
       "<table border=\"1\" class=\"dataframe\">\n",
       "  <thead>\n",
       "    <tr style=\"text-align: right;\">\n",
       "      <th></th>\n",
       "      <th>source_country</th>\n",
       "      <th>x</th>\n",
       "      <th>y</th>\n",
       "      <th>area_type</th>\n",
       "      <th>buffer_units</th>\n",
       "      <th>buffer_units_alias</th>\n",
       "      <th>buffer_radii</th>\n",
       "      <th>aggregation_method</th>\n",
       "      <th>population_to_polygon_size_rating</th>\n",
       "      <th>apportionment_confidence</th>\n",
       "      <th>...</th>\n",
       "      <th>fem45</th>\n",
       "      <th>fem50</th>\n",
       "      <th>fem55</th>\n",
       "      <th>fem60</th>\n",
       "      <th>fem65</th>\n",
       "      <th>fem70</th>\n",
       "      <th>fem75</th>\n",
       "      <th>fem80</th>\n",
       "      <th>fem85</th>\n",
       "      <th>SHAPE</th>\n",
       "    </tr>\n",
       "  </thead>\n",
       "  <tbody>\n",
       "    <tr>\n",
       "      <th>0</th>\n",
       "      <td>USA</td>\n",
       "      <td>-117.19479</td>\n",
       "      <td>34.057265</td>\n",
       "      <td>NetworkServiceArea</td>\n",
       "      <td>Minutes</td>\n",
       "      <td>Drive Time Minutes</td>\n",
       "      <td>5.0</td>\n",
       "      <td>BlockApportionment:US.BlockGroups;PointsLayer:...</td>\n",
       "      <td>2.191</td>\n",
       "      <td>2.576</td>\n",
       "      <td>...</td>\n",
       "      <td>457.0</td>\n",
       "      <td>479.0</td>\n",
       "      <td>461.0</td>\n",
       "      <td>434.0</td>\n",
       "      <td>404.0</td>\n",
       "      <td>342.0</td>\n",
       "      <td>215.0</td>\n",
       "      <td>137.0</td>\n",
       "      <td>175.0</td>\n",
       "      <td>{\"rings\": [[[-117.19996384486102, 34.076732195...</td>\n",
       "    </tr>\n",
       "    <tr>\n",
       "      <th>1</th>\n",
       "      <td>USA</td>\n",
       "      <td>-117.19479</td>\n",
       "      <td>34.057265</td>\n",
       "      <td>NetworkServiceArea</td>\n",
       "      <td>Minutes</td>\n",
       "      <td>Drive Time Minutes</td>\n",
       "      <td>10.0</td>\n",
       "      <td>BlockApportionment:US.BlockGroups;PointsLayer:...</td>\n",
       "      <td>2.191</td>\n",
       "      <td>2.576</td>\n",
       "      <td>...</td>\n",
       "      <td>2831.0</td>\n",
       "      <td>2860.0</td>\n",
       "      <td>2954.0</td>\n",
       "      <td>3025.0</td>\n",
       "      <td>2642.0</td>\n",
       "      <td>2155.0</td>\n",
       "      <td>1537.0</td>\n",
       "      <td>1111.0</td>\n",
       "      <td>1604.0</td>\n",
       "      <td>{\"rings\": [[[-117.19300193285012, 34.134897844...</td>\n",
       "    </tr>\n",
       "  </tbody>\n",
       "</table>\n",
       "<p>2 rows × 48 columns</p>\n",
       "</div>"
      ],
      "text/plain": [
       "  source_country          x          y           area_type buffer_units  \\\n",
       "0            USA -117.19479  34.057265  NetworkServiceArea      Minutes   \n",
       "1            USA -117.19479  34.057265  NetworkServiceArea      Minutes   \n",
       "\n",
       "   buffer_units_alias  buffer_radii  \\\n",
       "0  Drive Time Minutes           5.0   \n",
       "1  Drive Time Minutes          10.0   \n",
       "\n",
       "                                  aggregation_method  \\\n",
       "0  BlockApportionment:US.BlockGroups;PointsLayer:...   \n",
       "1  BlockApportionment:US.BlockGroups;PointsLayer:...   \n",
       "\n",
       "   population_to_polygon_size_rating  apportionment_confidence  ...   fem45  \\\n",
       "0                              2.191                     2.576  ...   457.0   \n",
       "1                              2.191                     2.576  ...  2831.0   \n",
       "\n",
       "    fem50   fem55   fem60   fem65   fem70   fem75   fem80   fem85  \\\n",
       "0   479.0   461.0   434.0   404.0   342.0   215.0   137.0   175.0   \n",
       "1  2860.0  2954.0  3025.0  2642.0  2155.0  1537.0  1111.0  1604.0   \n",
       "\n",
       "                                               SHAPE  \n",
       "0  {\"rings\": [[[-117.19996384486102, 34.076732195...  \n",
       "1  {\"rings\": [[[-117.19300193285012, 34.134897844...  \n",
       "\n",
       "[2 rows x 48 columns]"
      ]
     },
     "execution_count": 31,
     "metadata": {},
     "output_type": "execute_result"
    }
   ],
   "source": [
    "drive_time_df"
   ]
  },
  {
   "cell_type": "markdown",
   "metadata": {
    "slideshow": {
     "slide_type": "subslide"
    }
   },
   "source": [
    "##### Visualize results on a map\n",
    "\n",
    "The returned spatial dataframe can be visualized on a map as shown below:"
   ]
  },
  {
   "cell_type": "code",
   "execution_count": 32,
   "metadata": {},
   "outputs": [
    {
     "data": {
      "application/vnd.jupyter.widget-view+json": {
       "model_id": "262e767419f3451b88f1105701273249",
       "version_major": 2,
       "version_minor": 0
      },
      "text/plain": [
       "MapView(layout=Layout(height='400px', width='100%'))"
      ]
     },
     "metadata": {},
     "output_type": "display_data"
    },
    {
     "data": {
      "text/html": [
       "<div class=\"map-static-img-preview-0a24d50e-fc79-4f8e-8dd1-c996eae51ad1\"><img src=\"\"></img></div>"
      ],
      "text/plain": [
       "<IPython.core.display.HTML object>"
      ]
     },
     "metadata": {},
     "output_type": "display_data"
    },
    {
     "data": {
      "text/html": [
       "<div class=\"map-html-embed-preview-0a24d50e-fc79-4f8e-8dd1-c996eae51ad1\"></div>"
      ],
      "text/plain": [
       "<IPython.core.display.HTML object>"
      ]
     },
     "metadata": {},
     "output_type": "display_data"
    }
   ],
   "source": [
    "# Plot on a map\n",
    "buffer_map2 = gis.map('Redlands, CA')\n",
    "buffer_map2.basemap = 'dark-gray-vector'\n",
    "buffer_map2"
   ]
  },
  {
   "cell_type": "code",
   "execution_count": 33,
   "metadata": {},
   "outputs": [
    {
     "data": {
      "text/plain": [
       "True"
      ]
     },
     "execution_count": 33,
     "metadata": {},
     "output_type": "execute_result"
    }
   ],
   "source": [
    "drive_time_df.spatial.plot(map_widget=buffer_map2,\n",
    "                   renderer_type='c',  # for class breaks renderer\n",
    "                   method='esriClassifyNaturalBreaks',  # classification algorithm\n",
    "                   class_count=3,  # choose the number of classes\n",
    "                   col='bufferRadii',  # numeric column to classify\n",
    "                   cmap='viridis',  # color map to pick colors from for each class\n",
    "                   alpha=0.7  # specify opacity\n",
    "                   )"
   ]
  },
  {
   "cell_type": "markdown",
   "metadata": {
    "slideshow": {
     "slide_type": "subslide"
    }
   },
   "source": [
    "### Enriching a named statistical area\n",
    "\n",
    "In all previous examples of different study area types, locations were defined as either points or polygons. Study area locations can also be passed as one or many named statistical areas. This form of study area lets you define an area as a standard geographic statistical feature, such as a census or postal area, for example, to obtain enrichment information for a U.S. state, county, or ZIP Code or a Canadian province or postal code. We will explore Named statistical areas in detail in the next section.\n"
   ]
  },
  {
   "cell_type": "markdown",
   "metadata": {},
   "source": [
    "#### Enriching a zip code\n",
    "Enriching zip code 92373 in California using the 'Age' data collection:"
   ]
  },
  {
   "cell_type": "code",
   "execution_count": 34,
   "metadata": {},
   "outputs": [],
   "source": [
    "usa = Country.get('US')"
   ]
  },
  {
   "cell_type": "code",
   "execution_count": 35,
   "metadata": {
    "slideshow": {
     "slide_type": "skip"
    }
   },
   "outputs": [],
   "source": [
    "redlands = usa.subgeographies.states['California'].zip5['92373']"
   ]
  },
  {
   "cell_type": "code",
   "execution_count": 36,
   "metadata": {},
   "outputs": [
    {
     "data": {
      "text/plain": [
       "arcgis.geoenrichment.enrichment.NamedArea"
      ]
     },
     "execution_count": 36,
     "metadata": {},
     "output_type": "execute_result"
    }
   ],
   "source": [
    "type(redlands)"
   ]
  },
  {
   "cell_type": "code",
   "execution_count": 37,
   "metadata": {},
   "outputs": [
    {
     "data": {
      "text/plain": [
       "<NamedArea name:\"United States\" area_id=\"92373\", level=\"US.ZIP5\", country=\"United States\">"
      ]
     },
     "execution_count": 37,
     "metadata": {},
     "output_type": "execute_result"
    }
   ],
   "source": [
    "redlands"
   ]
  },
  {
   "cell_type": "code",
   "execution_count": 38,
   "metadata": {
    "slideshow": {
     "slide_type": "fragment"
    }
   },
   "outputs": [],
   "source": [
    "redlands_df = enrich(study_areas=[redlands], data_collections=['Age'] )"
   ]
  },
  {
   "cell_type": "code",
   "execution_count": 39,
   "metadata": {},
   "outputs": [
    {
     "data": {
      "text/html": [
       "<div>\n",
       "<style scoped>\n",
       "    .dataframe tbody tr th:only-of-type {\n",
       "        vertical-align: middle;\n",
       "    }\n",
       "\n",
       "    .dataframe tbody tr th {\n",
       "        vertical-align: top;\n",
       "    }\n",
       "\n",
       "    .dataframe thead th {\n",
       "        text-align: right;\n",
       "    }\n",
       "</style>\n",
       "<table border=\"1\" class=\"dataframe\">\n",
       "  <thead>\n",
       "    <tr style=\"text-align: right;\">\n",
       "      <th></th>\n",
       "      <th>std_geography_level</th>\n",
       "      <th>std_geography_name</th>\n",
       "      <th>std_geography_id</th>\n",
       "      <th>source_country</th>\n",
       "      <th>aggregation_method</th>\n",
       "      <th>population_to_polygon_size_rating</th>\n",
       "      <th>apportionment_confidence</th>\n",
       "      <th>has_data</th>\n",
       "      <th>male0</th>\n",
       "      <th>male5</th>\n",
       "      <th>...</th>\n",
       "      <th>fem45</th>\n",
       "      <th>fem50</th>\n",
       "      <th>fem55</th>\n",
       "      <th>fem60</th>\n",
       "      <th>fem65</th>\n",
       "      <th>fem70</th>\n",
       "      <th>fem75</th>\n",
       "      <th>fem80</th>\n",
       "      <th>fem85</th>\n",
       "      <th>SHAPE</th>\n",
       "    </tr>\n",
       "  </thead>\n",
       "  <tbody>\n",
       "    <tr>\n",
       "      <th>0</th>\n",
       "      <td>US.ZIP5</td>\n",
       "      <td>Redlands</td>\n",
       "      <td>92373</td>\n",
       "      <td>USA</td>\n",
       "      <td>Query:US.ZIP5</td>\n",
       "      <td>2.191</td>\n",
       "      <td>2.576</td>\n",
       "      <td>1</td>\n",
       "      <td>888.0</td>\n",
       "      <td>911.0</td>\n",
       "      <td>...</td>\n",
       "      <td>1056.0</td>\n",
       "      <td>1135.0</td>\n",
       "      <td>1152.0</td>\n",
       "      <td>1209.0</td>\n",
       "      <td>1149.0</td>\n",
       "      <td>1014.0</td>\n",
       "      <td>730.0</td>\n",
       "      <td>518.0</td>\n",
       "      <td>810.0</td>\n",
       "      <td>{\"rings\": [[[-117.16767396036383, 33.976847519...</td>\n",
       "    </tr>\n",
       "  </tbody>\n",
       "</table>\n",
       "<p>1 rows × 45 columns</p>\n",
       "</div>"
      ],
      "text/plain": [
       "  std_geography_level std_geography_name std_geography_id source_country  \\\n",
       "0             US.ZIP5           Redlands            92373            USA   \n",
       "\n",
       "  aggregation_method  population_to_polygon_size_rating  \\\n",
       "0      Query:US.ZIP5                              2.191   \n",
       "\n",
       "   apportionment_confidence  has_data  male0  male5  ...   fem45   fem50  \\\n",
       "0                     2.576         1  888.0  911.0  ...  1056.0  1135.0   \n",
       "\n",
       "    fem55   fem60   fem65   fem70  fem75  fem80  fem85  \\\n",
       "0  1152.0  1209.0  1149.0  1014.0  730.0  518.0  810.0   \n",
       "\n",
       "                                               SHAPE  \n",
       "0  {\"rings\": [[[-117.16767396036383, 33.976847519...  \n",
       "\n",
       "[1 rows x 45 columns]"
      ]
     },
     "execution_count": 39,
     "metadata": {},
     "output_type": "execute_result"
    }
   ],
   "source": [
    "redlands_df"
   ]
  },
  {
   "cell_type": "markdown",
   "metadata": {},
   "source": [
    "\n",
    "##### Visualize results on a map\n",
    "\n",
    "The returned spatial dataframe can be visualized on a map as shown below:"
   ]
  },
  {
   "cell_type": "code",
   "execution_count": 40,
   "metadata": {},
   "outputs": [
    {
     "data": {
      "application/vnd.jupyter.widget-view+json": {
       "model_id": "64321cbdeccb4990bc0dfa65e428a0ca",
       "version_major": 2,
       "version_minor": 0
      },
      "text/plain": [
       "MapView(layout=Layout(height='400px', width='100%'))"
      ]
     },
     "metadata": {},
     "output_type": "display_data"
    },
    {
     "data": {
      "text/html": [
       "<div class=\"map-static-img-preview-9df72ab4-df59-4e25-a0d2-ccae9c878e39\"><img src=\"\"></img></div>"
      ],
      "text/plain": [
       "<IPython.core.display.HTML object>"
      ]
     },
     "metadata": {},
     "output_type": "display_data"
    },
    {
     "data": {
      "text/html": [
       "<div class=\"map-html-embed-preview-9df72ab4-df59-4e25-a0d2-ccae9c878e39\"></div>"
      ],
      "text/plain": [
       "<IPython.core.display.HTML object>"
      ]
     },
     "metadata": {},
     "output_type": "display_data"
    }
   ],
   "source": [
    "zip_map = gis.map('Redlands, CA')\n",
    "zip_map"
   ]
  },
  {
   "cell_type": "code",
   "execution_count": 41,
   "metadata": {},
   "outputs": [
    {
     "data": {
      "text/plain": [
       "True"
      ]
     },
     "execution_count": 41,
     "metadata": {},
     "output_type": "execute_result"
    }
   ],
   "source": [
    "redlands_df.spatial.plot(zip_map)"
   ]
  },
  {
   "cell_type": "markdown",
   "metadata": {
    "slideshow": {
     "slide_type": "subslide"
    }
   },
   "source": [
    "#### Enriching all counties in a state"
   ]
  },
  {
   "cell_type": "markdown",
   "metadata": {},
   "source": [
    "##### Note: When getting NamedAreas in general a dictionary is returned. In this case, you can either pass in the dictionary as a variable to the study_areas parameter or a list of the dictionary values.   \n",
    "Here is an example of each case:"
   ]
  },
  {
   "cell_type": "code",
   "execution_count": 42,
   "metadata": {
    "slideshow": {
     "slide_type": "-"
    }
   },
   "outputs": [],
   "source": [
    "ca_counties = usa.subgeographies.states['California'].counties"
   ]
  },
  {
   "cell_type": "code",
   "execution_count": 43,
   "metadata": {
    "scrolled": false,
    "slideshow": {
     "slide_type": "fragment"
    }
   },
   "outputs": [
    {
     "data": {
      "text/html": [
       "<div>\n",
       "<style scoped>\n",
       "    .dataframe tbody tr th:only-of-type {\n",
       "        vertical-align: middle;\n",
       "    }\n",
       "\n",
       "    .dataframe tbody tr th {\n",
       "        vertical-align: top;\n",
       "    }\n",
       "\n",
       "    .dataframe thead th {\n",
       "        text-align: right;\n",
       "    }\n",
       "</style>\n",
       "<table border=\"1\" class=\"dataframe\">\n",
       "  <thead>\n",
       "    <tr style=\"text-align: right;\">\n",
       "      <th></th>\n",
       "      <th>std_geography_level</th>\n",
       "      <th>std_geography_name</th>\n",
       "      <th>std_geography_id</th>\n",
       "      <th>source_country</th>\n",
       "      <th>aggregation_method</th>\n",
       "      <th>population_to_polygon_size_rating</th>\n",
       "      <th>apportionment_confidence</th>\n",
       "      <th>has_data</th>\n",
       "      <th>male0</th>\n",
       "      <th>male5</th>\n",
       "      <th>...</th>\n",
       "      <th>fem45</th>\n",
       "      <th>fem50</th>\n",
       "      <th>fem55</th>\n",
       "      <th>fem60</th>\n",
       "      <th>fem65</th>\n",
       "      <th>fem70</th>\n",
       "      <th>fem75</th>\n",
       "      <th>fem80</th>\n",
       "      <th>fem85</th>\n",
       "      <th>SHAPE</th>\n",
       "    </tr>\n",
       "  </thead>\n",
       "  <tbody>\n",
       "    <tr>\n",
       "      <th>0</th>\n",
       "      <td>US.Counties</td>\n",
       "      <td>Alameda County</td>\n",
       "      <td>06001</td>\n",
       "      <td>USA</td>\n",
       "      <td>Query:US.Counties</td>\n",
       "      <td>2.191</td>\n",
       "      <td>2.576</td>\n",
       "      <td>1</td>\n",
       "      <td>49161.0</td>\n",
       "      <td>51493.0</td>\n",
       "      <td>...</td>\n",
       "      <td>55521.0</td>\n",
       "      <td>54569.0</td>\n",
       "      <td>55358.0</td>\n",
       "      <td>53052.0</td>\n",
       "      <td>46019.0</td>\n",
       "      <td>37534.0</td>\n",
       "      <td>25991.0</td>\n",
       "      <td>16889.0</td>\n",
       "      <td>19975.0</td>\n",
       "      <td>{\"rings\": [[[-122.27036220796694, 37.904395965...</td>\n",
       "    </tr>\n",
       "    <tr>\n",
       "      <th>1</th>\n",
       "      <td>US.Counties</td>\n",
       "      <td>Alpine County</td>\n",
       "      <td>06003</td>\n",
       "      <td>USA</td>\n",
       "      <td>Query:US.Counties</td>\n",
       "      <td>2.191</td>\n",
       "      <td>2.576</td>\n",
       "      <td>1</td>\n",
       "      <td>33.0</td>\n",
       "      <td>37.0</td>\n",
       "      <td>...</td>\n",
       "      <td>31.0</td>\n",
       "      <td>42.0</td>\n",
       "      <td>50.0</td>\n",
       "      <td>44.0</td>\n",
       "      <td>68.0</td>\n",
       "      <td>30.0</td>\n",
       "      <td>23.0</td>\n",
       "      <td>15.0</td>\n",
       "      <td>8.0</td>\n",
       "      <td>{\"rings\": [[[-119.90060896152161, 38.930765231...</td>\n",
       "    </tr>\n",
       "    <tr>\n",
       "      <th>2</th>\n",
       "      <td>US.Counties</td>\n",
       "      <td>Amador County</td>\n",
       "      <td>06005</td>\n",
       "      <td>USA</td>\n",
       "      <td>Query:US.Counties</td>\n",
       "      <td>2.191</td>\n",
       "      <td>2.576</td>\n",
       "      <td>1</td>\n",
       "      <td>685.0</td>\n",
       "      <td>787.0</td>\n",
       "      <td>...</td>\n",
       "      <td>1040.0</td>\n",
       "      <td>1181.0</td>\n",
       "      <td>1553.0</td>\n",
       "      <td>1851.0</td>\n",
       "      <td>1739.0</td>\n",
       "      <td>1579.0</td>\n",
       "      <td>1040.0</td>\n",
       "      <td>697.0</td>\n",
       "      <td>690.0</td>\n",
       "      <td>{\"rings\": [[[-120.07765196234347, 38.708892198...</td>\n",
       "    </tr>\n",
       "    <tr>\n",
       "      <th>3</th>\n",
       "      <td>US.Counties</td>\n",
       "      <td>Butte County</td>\n",
       "      <td>06007</td>\n",
       "      <td>USA</td>\n",
       "      <td>Query:US.Counties</td>\n",
       "      <td>2.191</td>\n",
       "      <td>2.576</td>\n",
       "      <td>1</td>\n",
       "      <td>5738.0</td>\n",
       "      <td>5744.0</td>\n",
       "      <td>...</td>\n",
       "      <td>5335.0</td>\n",
       "      <td>5784.0</td>\n",
       "      <td>6706.0</td>\n",
       "      <td>7248.0</td>\n",
       "      <td>6928.0</td>\n",
       "      <td>5700.0</td>\n",
       "      <td>4003.0</td>\n",
       "      <td>2574.0</td>\n",
       "      <td>3220.0</td>\n",
       "      <td>{\"rings\": [[[-121.40463436180775, 40.146646214...</td>\n",
       "    </tr>\n",
       "    <tr>\n",
       "      <th>4</th>\n",
       "      <td>US.Counties</td>\n",
       "      <td>Calaveras County</td>\n",
       "      <td>06009</td>\n",
       "      <td>USA</td>\n",
       "      <td>Query:US.Counties</td>\n",
       "      <td>2.191</td>\n",
       "      <td>2.576</td>\n",
       "      <td>1</td>\n",
       "      <td>870.0</td>\n",
       "      <td>942.0</td>\n",
       "      <td>...</td>\n",
       "      <td>1205.0</td>\n",
       "      <td>1510.0</td>\n",
       "      <td>1968.0</td>\n",
       "      <td>2198.0</td>\n",
       "      <td>2257.0</td>\n",
       "      <td>1876.0</td>\n",
       "      <td>1172.0</td>\n",
       "      <td>657.0</td>\n",
       "      <td>617.0</td>\n",
       "      <td>{\"rings\": [[[-120.07247293757524, 38.509161181...</td>\n",
       "    </tr>\n",
       "  </tbody>\n",
       "</table>\n",
       "<p>5 rows × 45 columns</p>\n",
       "</div>"
      ],
      "text/plain": [
       "  std_geography_level std_geography_name std_geography_id source_country  \\\n",
       "0         US.Counties     Alameda County            06001            USA   \n",
       "1         US.Counties      Alpine County            06003            USA   \n",
       "2         US.Counties      Amador County            06005            USA   \n",
       "3         US.Counties       Butte County            06007            USA   \n",
       "4         US.Counties   Calaveras County            06009            USA   \n",
       "\n",
       "  aggregation_method  population_to_polygon_size_rating  \\\n",
       "0  Query:US.Counties                              2.191   \n",
       "1  Query:US.Counties                              2.191   \n",
       "2  Query:US.Counties                              2.191   \n",
       "3  Query:US.Counties                              2.191   \n",
       "4  Query:US.Counties                              2.191   \n",
       "\n",
       "   apportionment_confidence  has_data    male0    male5  ...    fem45  \\\n",
       "0                     2.576         1  49161.0  51493.0  ...  55521.0   \n",
       "1                     2.576         1     33.0     37.0  ...     31.0   \n",
       "2                     2.576         1    685.0    787.0  ...   1040.0   \n",
       "3                     2.576         1   5738.0   5744.0  ...   5335.0   \n",
       "4                     2.576         1    870.0    942.0  ...   1205.0   \n",
       "\n",
       "     fem50    fem55    fem60    fem65    fem70    fem75    fem80    fem85  \\\n",
       "0  54569.0  55358.0  53052.0  46019.0  37534.0  25991.0  16889.0  19975.0   \n",
       "1     42.0     50.0     44.0     68.0     30.0     23.0     15.0      8.0   \n",
       "2   1181.0   1553.0   1851.0   1739.0   1579.0   1040.0    697.0    690.0   \n",
       "3   5784.0   6706.0   7248.0   6928.0   5700.0   4003.0   2574.0   3220.0   \n",
       "4   1510.0   1968.0   2198.0   2257.0   1876.0   1172.0    657.0    617.0   \n",
       "\n",
       "                                               SHAPE  \n",
       "0  {\"rings\": [[[-122.27036220796694, 37.904395965...  \n",
       "1  {\"rings\": [[[-119.90060896152161, 38.930765231...  \n",
       "2  {\"rings\": [[[-120.07765196234347, 38.708892198...  \n",
       "3  {\"rings\": [[[-121.40463436180775, 40.146646214...  \n",
       "4  {\"rings\": [[[-120.07247293757524, 38.509161181...  \n",
       "\n",
       "[5 rows x 45 columns]"
      ]
     },
     "execution_count": 43,
     "metadata": {},
     "output_type": "execute_result"
    }
   ],
   "source": [
    "counties_df = enrich(study_areas=ca_counties, data_collections=['Age'])\n",
    "counties_df.head()"
   ]
  },
  {
   "cell_type": "code",
   "execution_count": 44,
   "metadata": {
    "scrolled": false
   },
   "outputs": [
    {
     "data": {
      "text/html": [
       "<div>\n",
       "<style scoped>\n",
       "    .dataframe tbody tr th:only-of-type {\n",
       "        vertical-align: middle;\n",
       "    }\n",
       "\n",
       "    .dataframe tbody tr th {\n",
       "        vertical-align: top;\n",
       "    }\n",
       "\n",
       "    .dataframe thead th {\n",
       "        text-align: right;\n",
       "    }\n",
       "</style>\n",
       "<table border=\"1\" class=\"dataframe\">\n",
       "  <thead>\n",
       "    <tr style=\"text-align: right;\">\n",
       "      <th></th>\n",
       "      <th>std_geography_level</th>\n",
       "      <th>std_geography_name</th>\n",
       "      <th>std_geography_id</th>\n",
       "      <th>source_country</th>\n",
       "      <th>aggregation_method</th>\n",
       "      <th>population_to_polygon_size_rating</th>\n",
       "      <th>apportionment_confidence</th>\n",
       "      <th>has_data</th>\n",
       "      <th>x6001_x</th>\n",
       "      <th>x6001_a</th>\n",
       "      <th>...</th>\n",
       "      <th>x6061fy_x</th>\n",
       "      <th>x6061fy_a</th>\n",
       "      <th>x6061fy_i</th>\n",
       "      <th>x6062fy_x</th>\n",
       "      <th>x6062fy_a</th>\n",
       "      <th>x6062fy_i</th>\n",
       "      <th>x6063fy_x</th>\n",
       "      <th>x6063fy_a</th>\n",
       "      <th>x6063fy_i</th>\n",
       "      <th>SHAPE</th>\n",
       "    </tr>\n",
       "  </thead>\n",
       "  <tbody>\n",
       "    <tr>\n",
       "      <th>0</th>\n",
       "      <td>US.Counties</td>\n",
       "      <td>Alameda County</td>\n",
       "      <td>06001</td>\n",
       "      <td>USA</td>\n",
       "      <td>Query:US.Counties</td>\n",
       "      <td>2.191</td>\n",
       "      <td>2.576</td>\n",
       "      <td>1</td>\n",
       "      <td>8938340557.0</td>\n",
       "      <td>14920.26</td>\n",
       "      <td>...</td>\n",
       "      <td>192310449.0</td>\n",
       "      <td>325.29</td>\n",
       "      <td>242.0</td>\n",
       "      <td>115477218.0</td>\n",
       "      <td>195.33</td>\n",
       "      <td>202.0</td>\n",
       "      <td>2607315.0</td>\n",
       "      <td>4.41</td>\n",
       "      <td>181.0</td>\n",
       "      <td>{\"rings\": [[[-122.27036220796694, 37.904395965...</td>\n",
       "    </tr>\n",
       "    <tr>\n",
       "      <th>1</th>\n",
       "      <td>US.Counties</td>\n",
       "      <td>Alpine County</td>\n",
       "      <td>06003</td>\n",
       "      <td>USA</td>\n",
       "      <td>Query:US.Counties</td>\n",
       "      <td>2.191</td>\n",
       "      <td>2.576</td>\n",
       "      <td>1</td>\n",
       "      <td>5114164.0</td>\n",
       "      <td>9759.85</td>\n",
       "      <td>...</td>\n",
       "      <td>41728.0</td>\n",
       "      <td>79.33</td>\n",
       "      <td>59.0</td>\n",
       "      <td>36960.0</td>\n",
       "      <td>70.27</td>\n",
       "      <td>73.0</td>\n",
       "      <td>775.0</td>\n",
       "      <td>1.47</td>\n",
       "      <td>60.0</td>\n",
       "      <td>{\"rings\": [[[-119.90060896152161, 38.930765231...</td>\n",
       "    </tr>\n",
       "    <tr>\n",
       "      <th>2</th>\n",
       "      <td>US.Counties</td>\n",
       "      <td>Amador County</td>\n",
       "      <td>06005</td>\n",
       "      <td>USA</td>\n",
       "      <td>Query:US.Counties</td>\n",
       "      <td>2.191</td>\n",
       "      <td>2.576</td>\n",
       "      <td>1</td>\n",
       "      <td>151573467.0</td>\n",
       "      <td>9599.33</td>\n",
       "      <td>...</td>\n",
       "      <td>1328685.0</td>\n",
       "      <td>82.75</td>\n",
       "      <td>62.0</td>\n",
       "      <td>1115814.0</td>\n",
       "      <td>69.49</td>\n",
       "      <td>72.0</td>\n",
       "      <td>22837.0</td>\n",
       "      <td>1.42</td>\n",
       "      <td>58.0</td>\n",
       "      <td>{\"rings\": [[[-120.07765196234347, 38.708892198...</td>\n",
       "    </tr>\n",
       "    <tr>\n",
       "      <th>3</th>\n",
       "      <td>US.Counties</td>\n",
       "      <td>Butte County</td>\n",
       "      <td>06007</td>\n",
       "      <td>USA</td>\n",
       "      <td>Query:US.Counties</td>\n",
       "      <td>2.191</td>\n",
       "      <td>2.576</td>\n",
       "      <td>1</td>\n",
       "      <td>837128815.0</td>\n",
       "      <td>9924.94</td>\n",
       "      <td>...</td>\n",
       "      <td>9600470.0</td>\n",
       "      <td>113.27</td>\n",
       "      <td>84.0</td>\n",
       "      <td>8498160.0</td>\n",
       "      <td>100.27</td>\n",
       "      <td>104.0</td>\n",
       "      <td>174002.0</td>\n",
       "      <td>2.05</td>\n",
       "      <td>84.0</td>\n",
       "      <td>{\"rings\": [[[-121.40463436180775, 40.146646214...</td>\n",
       "    </tr>\n",
       "    <tr>\n",
       "      <th>4</th>\n",
       "      <td>US.Counties</td>\n",
       "      <td>Calaveras County</td>\n",
       "      <td>06009</td>\n",
       "      <td>USA</td>\n",
       "      <td>Query:US.Counties</td>\n",
       "      <td>2.191</td>\n",
       "      <td>2.576</td>\n",
       "      <td>1</td>\n",
       "      <td>182566082.0</td>\n",
       "      <td>9829.12</td>\n",
       "      <td>...</td>\n",
       "      <td>1417301.0</td>\n",
       "      <td>76.45</td>\n",
       "      <td>57.0</td>\n",
       "      <td>1300752.0</td>\n",
       "      <td>70.16</td>\n",
       "      <td>72.0</td>\n",
       "      <td>26749.0</td>\n",
       "      <td>1.44</td>\n",
       "      <td>59.0</td>\n",
       "      <td>{\"rings\": [[[-120.07247293757524, 38.509161181...</td>\n",
       "    </tr>\n",
       "  </tbody>\n",
       "</table>\n",
       "<p>5 rows × 255 columns</p>\n",
       "</div>"
      ],
      "text/plain": [
       "  std_geography_level std_geography_name std_geography_id source_country  \\\n",
       "0         US.Counties     Alameda County            06001            USA   \n",
       "1         US.Counties      Alpine County            06003            USA   \n",
       "2         US.Counties      Amador County            06005            USA   \n",
       "3         US.Counties       Butte County            06007            USA   \n",
       "4         US.Counties   Calaveras County            06009            USA   \n",
       "\n",
       "  aggregation_method  population_to_polygon_size_rating  \\\n",
       "0  Query:US.Counties                              2.191   \n",
       "1  Query:US.Counties                              2.191   \n",
       "2  Query:US.Counties                              2.191   \n",
       "3  Query:US.Counties                              2.191   \n",
       "4  Query:US.Counties                              2.191   \n",
       "\n",
       "   apportionment_confidence  has_data       x6001_x   x6001_a  ...  \\\n",
       "0                     2.576         1  8938340557.0  14920.26  ...   \n",
       "1                     2.576         1     5114164.0   9759.85  ...   \n",
       "2                     2.576         1   151573467.0   9599.33  ...   \n",
       "3                     2.576         1   837128815.0   9924.94  ...   \n",
       "4                     2.576         1   182566082.0   9829.12  ...   \n",
       "\n",
       "     x6061fy_x  x6061fy_a  x6061fy_i    x6062fy_x  x6062fy_a  x6062fy_i  \\\n",
       "0  192310449.0     325.29      242.0  115477218.0     195.33      202.0   \n",
       "1      41728.0      79.33       59.0      36960.0      70.27       73.0   \n",
       "2    1328685.0      82.75       62.0    1115814.0      69.49       72.0   \n",
       "3    9600470.0     113.27       84.0    8498160.0     100.27      104.0   \n",
       "4    1417301.0      76.45       57.0    1300752.0      70.16       72.0   \n",
       "\n",
       "   x6063fy_x  x6063fy_a  x6063fy_i  \\\n",
       "0  2607315.0       4.41      181.0   \n",
       "1      775.0       1.47       60.0   \n",
       "2    22837.0       1.42       58.0   \n",
       "3   174002.0       2.05       84.0   \n",
       "4    26749.0       1.44       59.0   \n",
       "\n",
       "                                               SHAPE  \n",
       "0  {\"rings\": [[[-122.27036220796694, 37.904395965...  \n",
       "1  {\"rings\": [[[-119.90060896152161, 38.930765231...  \n",
       "2  {\"rings\": [[[-120.07765196234347, 38.708892198...  \n",
       "3  {\"rings\": [[[-121.40463436180775, 40.146646214...  \n",
       "4  {\"rings\": [[[-120.07247293757524, 38.509161181...  \n",
       "\n",
       "[5 rows x 255 columns]"
      ]
     },
     "execution_count": 44,
     "metadata": {},
     "output_type": "execute_result"
    }
   ],
   "source": [
    "counties_df2 = usa.enrich(study_areas=list(ca_counties.values()), data_collections=['transportation'])\n",
    "counties_df2.head()"
   ]
  },
  {
   "cell_type": "markdown",
   "metadata": {},
   "source": [
    "##### Visualize results on a map"
   ]
  },
  {
   "cell_type": "code",
   "execution_count": 45,
   "metadata": {},
   "outputs": [
    {
     "data": {
      "application/vnd.jupyter.widget-view+json": {
       "model_id": "ff78d128d78b4944b412686c7a15496b",
       "version_major": 2,
       "version_minor": 0
      },
      "text/plain": [
       "MapView(layout=Layout(height='400px', width='100%'))"
      ]
     },
     "metadata": {},
     "output_type": "display_data"
    },
    {
     "data": {
      "text/html": [
       "<div class=\"map-static-img-preview-dfd0e151-8b2e-42a8-9529-1d7468ce2030\"><img src=\"\"></img></div>"
      ],
      "text/plain": [
       "<IPython.core.display.HTML object>"
      ]
     },
     "metadata": {},
     "output_type": "display_data"
    },
    {
     "data": {
      "text/html": [
       "<div class=\"map-html-embed-preview-dfd0e151-8b2e-42a8-9529-1d7468ce2030\"></div>"
      ],
      "text/plain": [
       "<IPython.core.display.HTML object>"
      ]
     },
     "metadata": {},
     "output_type": "display_data"
    }
   ],
   "source": [
    "county_map = gis.map('California')\n",
    "county_map"
   ]
  },
  {
   "cell_type": "code",
   "execution_count": 46,
   "metadata": {},
   "outputs": [
    {
     "data": {
      "text/plain": [
       "True"
      ]
     },
     "execution_count": 46,
     "metadata": {},
     "output_type": "execute_result"
    }
   ],
   "source": [
    "counties_df.spatial.plot(map_widget=county_map,\n",
    "               renderer_type='c',  # for class breaks renderer\n",
    "               method='esriClassifyNaturalBreaks',  # classification algorithm\n",
    "               class_count=5,  # choose the number of classes\n",
    "               col='FEM75',  # numeric column to classify\n",
    "               cmap='viridis',  # color map to pick colors from for each class\n",
    "               alpha=0.7  # specify opacity\n",
    "               )"
   ]
  },
  {
   "cell_type": "code",
   "execution_count": 47,
   "metadata": {},
   "outputs": [],
   "source": [
    "county_map.legend=True"
   ]
  },
  {
   "cell_type": "markdown",
   "metadata": {},
   "source": [
    "## Conclusion"
   ]
  },
  {
   "cell_type": "markdown",
   "metadata": {},
   "source": [
    "In this part of the `arcgis.geoenrichment` module guide series, you were introduced to the concept of study areas and how Geoenrichment uses a study area to define the location of the point, polyline or area that you want to enrich. You have also seen in detail how different types of study areas can be enriched and visualized on a map.\n",
    "\n",
    "In the subsequent pages, you will learn about:\n",
    "1. Exploring Named Statistical Areas (explains where to enrich continued)\n",
    "2. Data Collections and GeoEnrichment coverage (explains what datasets/variables to enrich with)\n",
    "3. Generating Reports\n",
    "4. Standard Geography Queries"
   ]
  }
 ],
 "metadata": {
  "anaconda-cloud": {},
  "kernelspec": {
   "display_name": "Python 3",
   "language": "python",
   "name": "python3"
  },
  "language_info": {
   "codemirror_mode": {
    "name": "ipython",
    "version": 3
   },
   "file_extension": ".py",
   "mimetype": "text/x-python",
   "name": "python",
   "nbconvert_exporter": "python",
   "pygments_lexer": "ipython3",
   "version": "3.9.11 [MSC v.1931 64 bit (AMD64)]"
  },
  "livereveal": {
   "scroll": true
  },
  "toc": {
   "base_numbering": 1,
   "nav_menu": {},
   "number_sections": true,
   "sideBar": true,
   "skip_h1_title": true,
   "title_cell": "Table of Contents",
   "title_sidebar": "Contents",
   "toc_cell": true,
   "toc_position": {
    "height": "calc(100% - 180px)",
    "left": "10px",
    "top": "150px",
    "width": "335.188px"
   },
   "toc_section_display": true,
   "toc_window_display": true
  },
  "vscode": {
   "interpreter": {
    "hash": "07c13af76457a6f4e5d5b34d0e1bc42b2e017343b05b916c8871f483eed35ce6"
   }
  }
 },
 "nbformat": 4,
 "nbformat_minor": 2
}
