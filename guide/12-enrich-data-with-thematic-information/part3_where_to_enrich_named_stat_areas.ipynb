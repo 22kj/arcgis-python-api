{
 "cells": [
  {
   "cell_type": "markdown",
   "metadata": {
    "slideshow": {
     "slide_type": "slide"
    }
   },
   "source": [
    "# Part 3 - Where to enrich? (what are Named Statistical Areas?)"
   ]
  },
  {
   "cell_type": "code",
   "execution_count": 1,
   "metadata": {},
   "outputs": [],
   "source": [
    "# Import Libraries\n",
    "from arcgis.gis import GIS\n",
    "from arcgis.geoenrichment import Country"
   ]
  },
  {
   "cell_type": "code",
   "execution_count": 2,
   "metadata": {},
   "outputs": [],
   "source": [
    "# Create a GIS Connection\n",
    "gis = GIS(profile='your_online_profile')"
   ]
  },
  {
   "cell_type": "markdown",
   "metadata": {
    "slideshow": {
     "slide_type": "subslide"
    }
   },
   "source": [
    "## Exploring Named Statistical Areas\n",
    "\n",
    "Each country has several named statistical areas in a hierarchy of geography levels (such as states, counties, zip codes, etc). The `Country` class can be used to discover the data collections, sub-geographies and available reports for a country. When working with a particular country, you will find it convenient to get a reference to it using the `Country.get()` method. This method accepts the country name or its [2 letter abbreviation](http://www.nationsonline.org/oneworld/country_code_list.htm) or [ISO3 code](https://www.nationsonline.org/oneworld/country_code_list.htm) and returns an instance of that country.\n",
    "\n",
    "Let's look into some countries and explore their subgeographies."
   ]
  },
  {
   "cell_type": "markdown",
   "metadata": {},
   "source": [
    "### Explore subgeographies (State, County, Tract and Zip Code) for U.S."
   ]
  },
  {
   "cell_type": "markdown",
   "metadata": {},
   "source": [
    "#### Geographic level: Country"
   ]
  },
  {
   "cell_type": "code",
   "execution_count": 3,
   "metadata": {
    "slideshow": {
     "slide_type": "fragment"
    }
   },
   "outputs": [
    {
     "data": {
      "text/plain": [
       "arcgis.geoenrichment.enrichment.Country"
      ]
     },
     "execution_count": 3,
     "metadata": {},
     "output_type": "execute_result"
    }
   ],
   "source": [
    "# Get US as a country\n",
    "usa = Country.get('US')\n",
    "type(usa)"
   ]
  },
  {
   "cell_type": "markdown",
   "metadata": {},
   "source": [
    "Now that we have a country, let's look at different levels of geographies available for U.S."
   ]
  },
  {
   "cell_type": "code",
   "execution_count": 4,
   "metadata": {},
   "outputs": [
    {
     "data": {
      "text/plain": [
       "['level_name',\n",
       " 'singular_name',\n",
       " 'plural_name',\n",
       " 'alias',\n",
       " 'level_id',\n",
       " 'admin_level']"
      ]
     },
     "execution_count": 4,
     "metadata": {},
     "output_type": "execute_result"
    }
   ],
   "source": [
    "us_levels = [level for level in usa.levels]\n",
    "us_levels"
   ]
  },
  {
   "cell_type": "markdown",
   "metadata": {},
   "source": [
    "We can see various levels of subgeographies for the U.S. such as states, counties, cities, places being returned as a dictionary object, and the key-value pair of the dictionary includes `id, name, adminLevel` etc."
   ]
  },
  {
   "cell_type": "markdown",
   "metadata": {
    "slideshow": {
     "slide_type": "skip"
    }
   },
   "source": [
    "The `subgeographies` property of a country can be used to discover these standard geographic/statistical areas within that country. \n",
    "\n",
    "This information is available through a heirarchy of dynamic properties (like states, counties, tracts, zip-codes,...). Each such dynamic property reflects the geographical levels within that country, with subgeographies grouped logically under the higher levels of geographies. The properties are dictionaries containing the names of the standard geographic places and their values are instances of `NamedArea` class. The `NamedArea` objects can be used as **study areas** in the `enrich()` method."
   ]
  },
  {
   "cell_type": "markdown",
   "metadata": {
    "slideshow": {
     "slide_type": "skip"
    }
   },
   "source": [
    "<blockquote><b>Note:</b> Setting the `IPCompleter.greedy=True` configuration option in Jupyter notebook enables you to dynamically discover the various levels of subgeographies using intellisense, as in the example below:</blockquote>"
   ]
  },
  {
   "cell_type": "code",
   "execution_count": 5,
   "metadata": {
    "slideshow": {
     "slide_type": "skip"
    }
   },
   "outputs": [],
   "source": [
    "%config IPCompleter.greedy=True"
   ]
  },
  {
   "cell_type": "markdown",
   "metadata": {},
   "source": [
    "#### Geographic level: State"
   ]
  },
  {
   "cell_type": "markdown",
   "metadata": {},
   "source": [
    "`usa.subgeographies.states` returns a dictionary of different state names along with their details. To view all states and their details you may use `usa.subgeographies.states` in the code cell. We will only look at the first few records."
   ]
  },
  {
   "cell_type": "code",
   "execution_count": 6,
   "metadata": {},
   "outputs": [
    {
     "data": {
      "text/plain": [
       "[('Alabama',\n",
       "  <NamedArea name:\"United States\" area_id=\"01\", level=\"US.States\", country=\"United States\">),\n",
       " ('Alaska',\n",
       "  <NamedArea name:\"United States\" area_id=\"02\", level=\"US.States\", country=\"United States\">),\n",
       " ('Arizona',\n",
       "  <NamedArea name:\"United States\" area_id=\"04\", level=\"US.States\", country=\"United States\">),\n",
       " ('Arkansas',\n",
       "  <NamedArea name:\"United States\" area_id=\"05\", level=\"US.States\", country=\"United States\">),\n",
       " ('California',\n",
       "  <NamedArea name:\"United States\" area_id=\"06\", level=\"US.States\", country=\"United States\">)]"
      ]
     },
     "execution_count": 6,
     "metadata": {},
     "output_type": "execute_result"
    }
   ],
   "source": [
    "us_states = [state for state in usa.subgeographies.states.items()][:5]\n",
    "us_states"
   ]
  },
  {
   "cell_type": "markdown",
   "metadata": {},
   "source": [
    "We see that various states are listed along with the \"NamedArea\" object that contains different properties such as name, area_id, level etc. Let's select a state and further explore its subgeographies."
   ]
  },
  {
   "cell_type": "code",
   "execution_count": 7,
   "metadata": {},
   "outputs": [
    {
     "data": {
      "text/plain": [
       "<NamedArea name:\"United States\" area_id=\"06\", level=\"US.States\", country=\"United States\">"
      ]
     },
     "execution_count": 7,
     "metadata": {},
     "output_type": "execute_result"
    }
   ],
   "source": [
    "# Select a state\n",
    "us_state = usa.subgeographies.states['California']\n",
    "us_state"
   ]
  },
  {
   "cell_type": "markdown",
   "metadata": {},
   "source": [
    "__Visualize on a map__"
   ]
  },
  {
   "cell_type": "code",
   "execution_count": 8,
   "metadata": {},
   "outputs": [
    {
     "data": {
      "application/vnd.jupyter.widget-view+json": {
       "model_id": "09c69a7d1eae48ddbfdd077b8d0aadb8",
       "version_major": 2,
       "version_minor": 0
      },
      "text/plain": [
       "MapView(layout=Layout(height='400px', width='100%'))"
      ]
     },
     "metadata": {},
     "output_type": "display_data"
    },
    {
     "data": {
      "text/html": [
       "<div class=\"map-static-img-preview-7e7a392e-0229-468e-bc74-eb69aba65d59\"><img src=\"\"></img></div>"
      ],
      "text/plain": [
       "<IPython.core.display.HTML object>"
      ]
     },
     "metadata": {},
     "output_type": "display_data"
    },
    {
     "data": {
      "text/html": [
       "<div class=\"map-html-embed-preview-7e7a392e-0229-468e-bc74-eb69aba65d59\"></div>"
      ],
      "text/plain": [
       "<IPython.core.display.HTML object>"
      ]
     },
     "metadata": {},
     "output_type": "display_data"
    }
   ],
   "source": [
    "# Create a map\n",
    "state_map = gis.map('California')\n",
    "state_map"
   ]
  },
  {
   "cell_type": "code",
   "execution_count": 9,
   "metadata": {},
   "outputs": [],
   "source": [
    "# Plot on a map\n",
    "state_map.draw(us_state.geometry)"
   ]
  },
  {
   "cell_type": "markdown",
   "metadata": {},
   "source": [
    "#### Geographic level: County"
   ]
  },
  {
   "cell_type": "markdown",
   "metadata": {},
   "source": [
    "Let's look at different counties in California. Following a similar pattern as above, we will look at the first few counties. To look at all counties you may use `usa.subgeographies.states['California'].counties`."
   ]
  },
  {
   "cell_type": "code",
   "execution_count": 10,
   "metadata": {
    "slideshow": {
     "slide_type": "subslide"
    }
   },
   "outputs": [
    {
     "data": {
      "text/plain": [
       "[('Alameda_County',\n",
       "  <NamedArea name:\"United States\" area_id=\"06001\", level=\"US.Counties\", country=\"United States\">),\n",
       " ('Alpine_County',\n",
       "  <NamedArea name:\"United States\" area_id=\"06003\", level=\"US.Counties\", country=\"United States\">),\n",
       " ('Amador_County',\n",
       "  <NamedArea name:\"United States\" area_id=\"06005\", level=\"US.Counties\", country=\"United States\">),\n",
       " ('Butte_County',\n",
       "  <NamedArea name:\"United States\" area_id=\"06007\", level=\"US.Counties\", country=\"United States\">),\n",
       " ('Calaveras_County',\n",
       "  <NamedArea name:\"United States\" area_id=\"06009\", level=\"US.Counties\", country=\"United States\">)]"
      ]
     },
     "execution_count": 10,
     "metadata": {},
     "output_type": "execute_result"
    }
   ],
   "source": [
    "ca_counties = [county for county in usa.subgeographies.states['California'].counties.items()][:5]\n",
    "ca_counties"
   ]
  },
  {
   "cell_type": "markdown",
   "metadata": {},
   "source": [
    "Let's select a county in California. Notice how a county can be selected using its key i.e. `Alameda_County` or `San_Bernardino_County`. "
   ]
  },
  {
   "cell_type": "code",
   "execution_count": 11,
   "metadata": {},
   "outputs": [
    {
     "data": {
      "text/plain": [
       "<NamedArea name:\"United States\" area_id=\"06071\", level=\"US.Counties\", country=\"United States\">"
      ]
     },
     "execution_count": 11,
     "metadata": {},
     "output_type": "execute_result"
    }
   ],
   "source": [
    "sb_county = usa.subgeographies.states['California'].counties['San_Bernardino_County']\n",
    "sb_county"
   ]
  },
  {
   "cell_type": "markdown",
   "metadata": {},
   "source": [
    "__Visualize on a map__"
   ]
  },
  {
   "cell_type": "code",
   "execution_count": 12,
   "metadata": {},
   "outputs": [
    {
     "data": {
      "application/vnd.jupyter.widget-view+json": {
       "model_id": "9712deabee6a42629e75349ab476affe",
       "version_major": 2,
       "version_minor": 0
      },
      "text/plain": [
       "MapView(layout=Layout(height='400px', width='100%'))"
      ]
     },
     "metadata": {},
     "output_type": "display_data"
    },
    {
     "data": {
      "text/html": [
       "<div class=\"map-static-img-preview-bbc3e69d-f076-4b0a-90e6-f09d526d4a2d\"><img src=\"\"></img></div>"
      ],
      "text/plain": [
       "<IPython.core.display.HTML object>"
      ]
     },
     "metadata": {},
     "output_type": "display_data"
    },
    {
     "data": {
      "text/html": [
       "<div class=\"map-html-embed-preview-bbc3e69d-f076-4b0a-90e6-f09d526d4a2d\"></div>"
      ],
      "text/plain": [
       "<IPython.core.display.HTML object>"
      ]
     },
     "metadata": {},
     "output_type": "display_data"
    }
   ],
   "source": [
    "# Create a map\n",
    "county_map = gis.map('California',6)\n",
    "county_map"
   ]
  },
  {
   "cell_type": "code",
   "execution_count": 13,
   "metadata": {},
   "outputs": [],
   "source": [
    "# Plot on a map\n",
    "county_map.draw(sb_county.geometry)"
   ]
  },
  {
   "cell_type": "markdown",
   "metadata": {},
   "source": [
    "#### Geographic level: Tract"
   ]
  },
  {
   "cell_type": "markdown",
   "metadata": {},
   "source": [
    "Let's select a county and look at different tracts in the county. We will look at the first few tracts in `San Bernardino` county. To look at all tracts you may use `usa.subgeographies.states['California'].counties['San_Bernardino_County'].tracts`."
   ]
  },
  {
   "cell_type": "code",
   "execution_count": 14,
   "metadata": {
    "slideshow": {
     "slide_type": "subslide"
    }
   },
   "outputs": [
    {
     "data": {
      "text/plain": [
       "[('060710002.01',\n",
       "  <NamedArea name:\"United States\" area_id=\"06071000201\", level=\"US.Tracts\", country=\"United States\">),\n",
       " ('060710002.03',\n",
       "  <NamedArea name:\"United States\" area_id=\"06071000203\", level=\"US.Tracts\", country=\"United States\">),\n",
       " ('060710002.05',\n",
       "  <NamedArea name:\"United States\" area_id=\"06071000205\", level=\"US.Tracts\", country=\"United States\">),\n",
       " ('060710002.07',\n",
       "  <NamedArea name:\"United States\" area_id=\"06071000207\", level=\"US.Tracts\", country=\"United States\">),\n",
       " ('060710002.08',\n",
       "  <NamedArea name:\"United States\" area_id=\"06071000208\", level=\"US.Tracts\", country=\"United States\">)]"
      ]
     },
     "execution_count": 14,
     "metadata": {},
     "output_type": "execute_result"
    }
   ],
   "source": [
    "sb_tracts = [tract for tract in usa.subgeographies.states['California'].counties\n",
    "             ['San_Bernardino_County'].tracts.items()][:5]\n",
    "sb_tracts"
   ]
  },
  {
   "cell_type": "markdown",
   "metadata": {},
   "source": [
    "Now, let's select a particular tract using its key."
   ]
  },
  {
   "cell_type": "code",
   "execution_count": 15,
   "metadata": {},
   "outputs": [
    {
     "data": {
      "text/plain": [
       "<NamedArea name:\"United States\" area_id=\"06071000203\", level=\"US.Tracts\", country=\"United States\">"
      ]
     },
     "execution_count": 15,
     "metadata": {},
     "output_type": "execute_result"
    }
   ],
   "source": [
    "usa.subgeographies.states['California'].counties['San_Bernardino_County'].tracts['060710002.03']"
   ]
  },
  {
   "cell_type": "markdown",
   "metadata": {},
   "source": [
    "#### Geographic level: Cities and Towns"
   ]
  },
  {
   "cell_type": "markdown",
   "metadata": {},
   "source": [
    "Cities and Towns in a state can be accessed using `Places` subgeography. We will look at the first few places in California. To view all places, you may use `usa.subgeographies.states['California'].places`."
   ]
  },
  {
   "cell_type": "code",
   "execution_count": 16,
   "metadata": {},
   "outputs": [
    {
     "data": {
      "text/plain": [
       "[('Acalanes_Ridge_CDP',\n",
       "  <NamedArea name:\"United States\" area_id=\"0600135\", level=\"US.Places\", country=\"United States\">),\n",
       " ('Acampo_CDP',\n",
       "  <NamedArea name:\"United States\" area_id=\"0600156\", level=\"US.Places\", country=\"United States\">),\n",
       " ('Acton_CDP',\n",
       "  <NamedArea name:\"United States\" area_id=\"0600212\", level=\"US.Places\", country=\"United States\">),\n",
       " ('Adelanto_city',\n",
       "  <NamedArea name:\"United States\" area_id=\"0600296\", level=\"US.Places\", country=\"United States\">),\n",
       " ('Adin_CDP',\n",
       "  <NamedArea name:\"United States\" area_id=\"0600310\", level=\"US.Places\", country=\"United States\">)]"
      ]
     },
     "execution_count": 16,
     "metadata": {},
     "output_type": "execute_result"
    }
   ],
   "source": [
    "ca_places = [place for place in usa.subgeographies.states['California'].places.items()][:5]\n",
    "ca_places"
   ]
  },
  {
   "cell_type": "markdown",
   "metadata": {},
   "source": [
    "A particular city or town can be selected using its key. So we can use census `Acalanes_Ridge_CDP` key to get the details. \n",
    "\n",
    "`CDP` here stands for census designated places. Census designated places (CDPs) are statistical geographic entities representing closely settled, unincorporated communities that are locally recognized and identified by name. They are the statistical equivalents of incorporated places, with the primary differences being the lack of a legally defined boundary and an active, functioning governmental structure. "
   ]
  },
  {
   "cell_type": "code",
   "execution_count": 17,
   "metadata": {},
   "outputs": [
    {
     "data": {
      "text/plain": [
       "<NamedArea name:\"United States\" area_id=\"0624680\", level=\"US.Places\", country=\"United States\">"
      ]
     },
     "execution_count": 17,
     "metadata": {},
     "output_type": "execute_result"
    }
   ],
   "source": [
    "usa.subgeographies.states['California'].places['Fontana_city']"
   ]
  },
  {
   "cell_type": "markdown",
   "metadata": {},
   "source": [
    "#### Geographic level: Zip Code"
   ]
  },
  {
   "cell_type": "markdown",
   "metadata": {},
   "source": [
    "Zip codes can be accessed at both the state and county levels. `zip5` is used to select a zip code subgeography. Let's look at how zip codes can be selected.\n",
    "\n",
    "Let's view a few zip codes for California and then select one. "
   ]
  },
  {
   "cell_type": "code",
   "execution_count": 18,
   "metadata": {},
   "outputs": [
    {
     "data": {
      "text/plain": [
       "[('90001',\n",
       "  <NamedArea name:\"United States\" area_id=\"90001\", level=\"US.ZIP5\", country=\"United States\">),\n",
       " ('90002',\n",
       "  <NamedArea name:\"United States\" area_id=\"90002\", level=\"US.ZIP5\", country=\"United States\">),\n",
       " ('90003',\n",
       "  <NamedArea name:\"United States\" area_id=\"90003\", level=\"US.ZIP5\", country=\"United States\">),\n",
       " ('90004',\n",
       "  <NamedArea name:\"United States\" area_id=\"90004\", level=\"US.ZIP5\", country=\"United States\">),\n",
       " ('90005',\n",
       "  <NamedArea name:\"United States\" area_id=\"90005\", level=\"US.ZIP5\", country=\"United States\">)]"
      ]
     },
     "execution_count": 18,
     "metadata": {},
     "output_type": "execute_result"
    }
   ],
   "source": [
    "zip_ca = [zip_code for zip_code in usa.subgeographies.states['California'].zip5.items()][:5]\n",
    "zip_ca"
   ]
  },
  {
   "cell_type": "code",
   "execution_count": 19,
   "metadata": {
    "slideshow": {
     "slide_type": "fragment"
    }
   },
   "outputs": [
    {
     "data": {
      "text/plain": [
       "<NamedArea name:\"United States\" area_id=\"92373\", level=\"US.ZIP5\", country=\"United States\">"
      ]
     },
     "execution_count": 19,
     "metadata": {},
     "output_type": "execute_result"
    }
   ],
   "source": [
    "zip_92373 = usa.subgeographies.states['California'].zip5['92373']\n",
    "zip_92373"
   ]
  },
  {
   "cell_type": "markdown",
   "metadata": {},
   "source": [
    "__Visualize on a map__"
   ]
  },
  {
   "cell_type": "code",
   "execution_count": 20,
   "metadata": {},
   "outputs": [
    {
     "data": {
      "application/vnd.jupyter.widget-view+json": {
       "model_id": "c7f551da8b6d4f25beb5bc99bbaa82bd",
       "version_major": 2,
       "version_minor": 0
      },
      "text/plain": [
       "MapView(layout=Layout(height='400px', width='100%'))"
      ]
     },
     "metadata": {},
     "output_type": "display_data"
    },
    {
     "data": {
      "text/html": [
       "<div class=\"map-static-img-preview-8f4a28ae-401f-40f9-a3c7-39e38794c4ab\"><img src=\"\"></img></div>"
      ],
      "text/plain": [
       "<IPython.core.display.HTML object>"
      ]
     },
     "metadata": {},
     "output_type": "display_data"
    },
    {
     "data": {
      "text/html": [
       "<div class=\"map-html-embed-preview-8f4a28ae-401f-40f9-a3c7-39e38794c4ab\"></div>"
      ],
      "text/plain": [
       "<IPython.core.display.HTML object>"
      ]
     },
     "metadata": {},
     "output_type": "display_data"
    }
   ],
   "source": [
    "# Create a map\n",
    "zip_map = gis.map('Redlands, CA')\n",
    "zip_map"
   ]
  },
  {
   "cell_type": "code",
   "execution_count": 21,
   "metadata": {},
   "outputs": [],
   "source": [
    "# Plot on a map\n",
    "zip_map.draw(zip_92373.geometry)"
   ]
  },
  {
   "cell_type": "markdown",
   "metadata": {},
   "source": [
    "Now let's view a few zip codes for San Bernardino county and then select one."
   ]
  },
  {
   "cell_type": "code",
   "execution_count": 22,
   "metadata": {},
   "outputs": [
    {
     "data": {
      "text/plain": [
       "[('91701',\n",
       "  <NamedArea name:\"United States\" area_id=\"91701\", level=\"US.ZIP5\", country=\"United States\">),\n",
       " ('91708',\n",
       "  <NamedArea name:\"United States\" area_id=\"91708\", level=\"US.ZIP5\", country=\"United States\">),\n",
       " ('91709',\n",
       "  <NamedArea name:\"United States\" area_id=\"91709\", level=\"US.ZIP5\", country=\"United States\">),\n",
       " ('91710',\n",
       "  <NamedArea name:\"United States\" area_id=\"91710\", level=\"US.ZIP5\", country=\"United States\">),\n",
       " ('91730',\n",
       "  <NamedArea name:\"United States\" area_id=\"91730\", level=\"US.ZIP5\", country=\"United States\">)]"
      ]
     },
     "execution_count": 22,
     "metadata": {},
     "output_type": "execute_result"
    }
   ],
   "source": [
    "zip_sb = [zip_code for zip_code in usa.subgeographies.states['California'].\n",
    "          counties['San_Bernardino_County'].zip5.items()][:5]\n",
    "zip_sb"
   ]
  },
  {
   "cell_type": "code",
   "execution_count": 23,
   "metadata": {},
   "outputs": [
    {
     "data": {
      "text/plain": [
       "<NamedArea name:\"United States\" area_id=\"92336\", level=\"US.ZIP5\", country=\"United States\">"
      ]
     },
     "execution_count": 23,
     "metadata": {},
     "output_type": "execute_result"
    }
   ],
   "source": [
    "zip_92336 = usa.subgeographies.states['California'].counties['San_Bernardino_County'].zip5['92336']\n",
    "zip_92336"
   ]
  },
  {
   "cell_type": "markdown",
   "metadata": {
    "slideshow": {
     "slide_type": "skip"
    }
   },
   "source": [
    "### Explore subgeographies for another country\n",
    "\n",
    "The subgeography levels and their hierarchies are different for each country, and can also be different for the different datasets (which can be set using the `Country.dataset` property)."
   ]
  },
  {
   "cell_type": "markdown",
   "metadata": {},
   "source": [
    "#### Geographic level: Country"
   ]
  },
  {
   "cell_type": "code",
   "execution_count": 24,
   "metadata": {
    "slideshow": {
     "slide_type": "subslide"
    }
   },
   "outputs": [],
   "source": [
    "india = Country.get('India')"
   ]
  },
  {
   "cell_type": "markdown",
   "metadata": {},
   "source": [
    "Look at the different levels of subgeographies for India"
   ]
  },
  {
   "cell_type": "code",
   "execution_count": 25,
   "metadata": {},
   "outputs": [
    {
     "data": {
      "text/html": [
       "<div>\n",
       "<style scoped>\n",
       "    .dataframe tbody tr th:only-of-type {\n",
       "        vertical-align: middle;\n",
       "    }\n",
       "\n",
       "    .dataframe tbody tr th {\n",
       "        vertical-align: top;\n",
       "    }\n",
       "\n",
       "    .dataframe thead th {\n",
       "        text-align: right;\n",
       "    }\n",
       "</style>\n",
       "<table border=\"1\" class=\"dataframe\">\n",
       "  <thead>\n",
       "    <tr style=\"text-align: right;\">\n",
       "      <th></th>\n",
       "      <th>level_name</th>\n",
       "      <th>singular_name</th>\n",
       "      <th>plural_name</th>\n",
       "      <th>alias</th>\n",
       "      <th>level_id</th>\n",
       "      <th>admin_level</th>\n",
       "    </tr>\n",
       "  </thead>\n",
       "  <tbody>\n",
       "    <tr>\n",
       "      <th>0</th>\n",
       "      <td>subdistricts</td>\n",
       "      <td>Subdistrict</td>\n",
       "      <td>Subdistricts</td>\n",
       "      <td>Subdistricts</td>\n",
       "      <td>IN.Subdistricts</td>\n",
       "      <td>Admin4</td>\n",
       "    </tr>\n",
       "    <tr>\n",
       "      <th>1</th>\n",
       "      <td>districts</td>\n",
       "      <td>District</td>\n",
       "      <td>Districts</td>\n",
       "      <td>Districts</td>\n",
       "      <td>IN.Districts</td>\n",
       "      <td>Admin3</td>\n",
       "    </tr>\n",
       "    <tr>\n",
       "      <th>2</th>\n",
       "      <td>states</td>\n",
       "      <td>State</td>\n",
       "      <td>States</td>\n",
       "      <td>States</td>\n",
       "      <td>IN.States</td>\n",
       "      <td>Admin2</td>\n",
       "    </tr>\n",
       "    <tr>\n",
       "      <th>3</th>\n",
       "      <td>country</td>\n",
       "      <td>Country</td>\n",
       "      <td>Country</td>\n",
       "      <td>Country</td>\n",
       "      <td>IN.Country</td>\n",
       "      <td>Admin1</td>\n",
       "    </tr>\n",
       "  </tbody>\n",
       "</table>\n",
       "</div>"
      ],
      "text/plain": [
       "     level_name singular_name   plural_name         alias         level_id  \\\n",
       "0  subdistricts   Subdistrict  Subdistricts  Subdistricts  IN.Subdistricts   \n",
       "1     districts      District     Districts     Districts     IN.Districts   \n",
       "2        states         State        States        States        IN.States   \n",
       "3       country       Country       Country       Country       IN.Country   \n",
       "\n",
       "  admin_level  \n",
       "0      Admin4  \n",
       "1      Admin3  \n",
       "2      Admin2  \n",
       "3      Admin1  "
      ]
     },
     "execution_count": 25,
     "metadata": {},
     "output_type": "execute_result"
    }
   ],
   "source": [
    "india.levels"
   ]
  },
  {
   "cell_type": "markdown",
   "metadata": {},
   "source": [
    "Here we see that subgeographies in India are different from those in U.S. India has `districts and sub-districts` instead of `counties and tracts`. Let's inspect a few states. Following a similar pattern of exploration as above, all states can be viewed using `india.subgeographies.states`."
   ]
  },
  {
   "cell_type": "markdown",
   "metadata": {},
   "source": [
    "#### Geographic level: State"
   ]
  },
  {
   "cell_type": "code",
   "execution_count": 26,
   "metadata": {},
   "outputs": [
    {
     "data": {
      "text/plain": [
       "[('Jammu_&_Kashmir',\n",
       "  <NamedArea name:\"India\" area_id=\"01\", level=\"IN.States\", country=\"India\">),\n",
       " ('Himachal_Pradesh',\n",
       "  <NamedArea name:\"India\" area_id=\"02\", level=\"IN.States\", country=\"India\">),\n",
       " ('Punjab',\n",
       "  <NamedArea name:\"India\" area_id=\"03\", level=\"IN.States\", country=\"India\">),\n",
       " ('Chandigarh',\n",
       "  <NamedArea name:\"India\" area_id=\"04\", level=\"IN.States\", country=\"India\">),\n",
       " ('Uttarakhand',\n",
       "  <NamedArea name:\"India\" area_id=\"05\", level=\"IN.States\", country=\"India\">)]"
      ]
     },
     "execution_count": 26,
     "metadata": {},
     "output_type": "execute_result"
    }
   ],
   "source": [
    "in_states = [state for state in india.subgeographies.states.items()][:5]\n",
    "in_states"
   ]
  },
  {
   "cell_type": "markdown",
   "metadata": {},
   "source": [
    "We see that various states are listed along with their properties such as name, area_id, level etc. Let's select a state and further explore its subgeographies."
   ]
  },
  {
   "cell_type": "code",
   "execution_count": 27,
   "metadata": {},
   "outputs": [],
   "source": [
    "state = india.subgeographies.states['Uttar_Pradesh']"
   ]
  },
  {
   "cell_type": "code",
   "execution_count": 28,
   "metadata": {},
   "outputs": [
    {
     "data": {
      "text/plain": [
       "'Polygon'"
      ]
     },
     "execution_count": 28,
     "metadata": {},
     "output_type": "execute_result"
    }
   ],
   "source": [
    "state.geometry.type"
   ]
  },
  {
   "cell_type": "markdown",
   "metadata": {},
   "source": [
    "#### Geographic level: District"
   ]
  },
  {
   "cell_type": "markdown",
   "metadata": {},
   "source": [
    "Let's look at different districts in the state of Uttar Pradesh. Following a similar pattern as above, we will look at the first few districts. To look at all districts you may use `usa.subgeographies.states['Uttar_Pradesh'].districts`."
   ]
  },
  {
   "cell_type": "code",
   "execution_count": 29,
   "metadata": {
    "slideshow": {
     "slide_type": "subslide"
    }
   },
   "outputs": [
    {
     "data": {
      "text/plain": [
       "[('Saharanpur',\n",
       "  <NamedArea name:\"India\" area_id=\"09132\", level=\"IN.Districts\", country=\"India\">),\n",
       " ('Muzaffarnagar',\n",
       "  <NamedArea name:\"India\" area_id=\"09133\", level=\"IN.Districts\", country=\"India\">),\n",
       " ('Bijnor',\n",
       "  <NamedArea name:\"India\" area_id=\"09134\", level=\"IN.Districts\", country=\"India\">),\n",
       " ('Moradabad',\n",
       "  <NamedArea name:\"India\" area_id=\"09135\", level=\"IN.Districts\", country=\"India\">),\n",
       " ('Rampur',\n",
       "  <NamedArea name:\"India\" area_id=\"09136\", level=\"IN.Districts\", country=\"India\">)]"
      ]
     },
     "execution_count": 29,
     "metadata": {},
     "output_type": "execute_result"
    }
   ],
   "source": [
    "in_districts = [district for district in india.subgeographies.states['Uttar_Pradesh'].districts.items()][:5]\n",
    "in_districts"
   ]
  },
  {
   "cell_type": "code",
   "execution_count": 30,
   "metadata": {},
   "outputs": [],
   "source": [
    "district = india.subgeographies.states['Uttar_Pradesh'].districts['Ghaziabad']"
   ]
  },
  {
   "cell_type": "markdown",
   "metadata": {},
   "source": [
    "__Visualize on a map__"
   ]
  },
  {
   "cell_type": "code",
   "execution_count": 36,
   "metadata": {},
   "outputs": [
    {
     "data": {
      "application/vnd.jupyter.widget-view+json": {
       "model_id": "5d114a0f0d9e435a9b6cb13e71685d22",
       "version_major": 2,
       "version_minor": 0
      },
      "text/plain": [
       "MapView(layout=Layout(height='400px', width='100%'))"
      ]
     },
     "metadata": {},
     "output_type": "display_data"
    },
    {
     "data": {
      "text/html": [
       "<div class=\"map-static-img-preview-c8548fa2-a1ab-45b4-9f07-5658fc8099e7\"><img src=\"\"></img></div>"
      ],
      "text/plain": [
       "<IPython.core.display.HTML object>"
      ]
     },
     "metadata": {},
     "output_type": "display_data"
    },
    {
     "data": {
      "text/html": [
       "<div class=\"map-html-embed-preview-c8548fa2-a1ab-45b4-9f07-5658fc8099e7\"></div>"
      ],
      "text/plain": [
       "<IPython.core.display.HTML object>"
      ]
     },
     "metadata": {},
     "output_type": "display_data"
    }
   ],
   "source": [
    "# Create a map\n",
    "district_map = gis.map('New Delhi, India', 9)\n",
    "district_map"
   ]
  },
  {
   "cell_type": "code",
   "execution_count": 37,
   "metadata": {},
   "outputs": [],
   "source": [
    "# Plot on a map\n",
    "district_map.draw(district.geometry)"
   ]
  },
  {
   "cell_type": "markdown",
   "metadata": {},
   "source": [
    "#### Geographic level: Subdistrict"
   ]
  },
  {
   "cell_type": "markdown",
   "metadata": {},
   "source": [
    "Let's select a district and look at different subdistricts in it. We will look at the first few subdistricts in `Baghpat` district. To look at all subdistricts you may use `india.subgeographies.states['Uttar_Pradesh'].districts['Ghaziabad'].subdistricts`."
   ]
  },
  {
   "cell_type": "code",
   "execution_count": 38,
   "metadata": {
    "slideshow": {
     "slide_type": "subslide"
    }
   },
   "outputs": [
    {
     "data": {
      "text/plain": [
       "[('Modinagar',\n",
       "  <NamedArea name:\"India\" area_id=\"0914000738\", level=\"IN.Subdistricts\", country=\"India\">),\n",
       " ('Ghaziabad',\n",
       "  <NamedArea name:\"India\" area_id=\"0914000739\", level=\"IN.Subdistricts\", country=\"India\">),\n",
       " ('Loni',\n",
       "  <NamedArea name:\"India\" area_id=\"0914006089\", level=\"IN.Subdistricts\", country=\"India\">)]"
      ]
     },
     "execution_count": 38,
     "metadata": {},
     "output_type": "execute_result"
    }
   ],
   "source": [
    "in_subdistrict = [sub for sub in india.subgeographies.states['Uttar_Pradesh'].\n",
    "                 districts['Ghaziabad'].subdistricts.items()][:5]\n",
    "in_subdistrict"
   ]
  },
  {
   "cell_type": "markdown",
   "metadata": {},
   "source": [
    "Now, let's select a particular subdistrict."
   ]
  },
  {
   "cell_type": "code",
   "execution_count": 39,
   "metadata": {},
   "outputs": [
    {
     "data": {
      "text/plain": [
       "<NamedArea name:\"India\" area_id=\"0914000738\", level=\"IN.Subdistricts\", country=\"India\">"
      ]
     },
     "execution_count": 39,
     "metadata": {},
     "output_type": "execute_result"
    }
   ],
   "source": [
    "india.subgeographies.states['Uttar_Pradesh'].districts['Ghaziabad'].subdistricts['Modinagar']"
   ]
  },
  {
   "cell_type": "markdown",
   "metadata": {
    "slideshow": {
     "slide_type": "subslide"
    }
   },
   "source": [
    "### Searching for named areas within a country\n",
    "\n",
    "Named statistical areas can also be searched within a country. Let's search for areas named `Riverside` in the U.S."
   ]
  },
  {
   "cell_type": "code",
   "execution_count": 40,
   "metadata": {
    "scrolled": true,
    "slideshow": {
     "slide_type": "fragment"
    }
   },
   "outputs": [
    {
     "name": "stdout",
     "output_type": "stream",
     "text": [
      "number of riversides in the US: 147\n"
     ]
    },
    {
     "data": {
      "text/plain": [
       "[<NamedArea name:\"United States\" area_id=\"147435\", level=\"Cities\", country=\"United States\">,\n",
       " <NamedArea name:\"United States\" area_id=\"147436\", level=\"Cities\", country=\"United States\">,\n",
       " <NamedArea name:\"United States\" area_id=\"147437\", level=\"Cities\", country=\"United States\">,\n",
       " <NamedArea name:\"United States\" area_id=\"147438\", level=\"Cities\", country=\"United States\">,\n",
       " <NamedArea name:\"United States\" area_id=\"147439\", level=\"Cities\", country=\"United States\">,\n",
       " <NamedArea name:\"United States\" area_id=\"147440\", level=\"Cities\", country=\"United States\">,\n",
       " <NamedArea name:\"United States\" area_id=\"147441\", level=\"Cities\", country=\"United States\">,\n",
       " <NamedArea name:\"United States\" area_id=\"147442\", level=\"Cities\", country=\"United States\">,\n",
       " <NamedArea name:\"United States\" area_id=\"147443\", level=\"Cities\", country=\"United States\">,\n",
       " <NamedArea name:\"United States\" area_id=\"147444\", level=\"Cities\", country=\"United States\">]"
      ]
     },
     "execution_count": 40,
     "metadata": {},
     "output_type": "execute_result"
    }
   ],
   "source": [
    "riversides_in_usa = usa.search('Riverside')\n",
    "print(\"number of riversides in the US: \" + str(len(riversides_in_usa)))\n",
    "\n",
    "# list a few of them\n",
    "riversides_in_usa[:10]"
   ]
  },
  {
   "cell_type": "markdown",
   "metadata": {
    "slideshow": {
     "slide_type": "skip"
    }
   },
   "source": [
    "__The named areas can also be drawn on a map, as they include a `geometry` property__"
   ]
  },
  {
   "cell_type": "markdown",
   "metadata": {},
   "source": [
    "For instance, you can make a map of all the riversides in the US"
   ]
  },
  {
   "cell_type": "code",
   "execution_count": 41,
   "metadata": {
    "slideshow": {
     "slide_type": "subslide"
    }
   },
   "outputs": [
    {
     "data": {
      "application/vnd.jupyter.widget-view+json": {
       "model_id": "7771cea7853e46a894659852272de9ed",
       "version_major": 2,
       "version_minor": 0
      },
      "text/plain": [
       "MapView(layout=Layout(height='400px', width='100%'))"
      ]
     },
     "metadata": {},
     "output_type": "display_data"
    },
    {
     "data": {
      "text/html": [
       "<div class=\"map-static-img-preview-49aa90bd-3dce-4141-9334-387a5e4f233c\"><img src=\"\"></img></div>"
      ],
      "text/plain": [
       "<IPython.core.display.HTML object>"
      ]
     },
     "metadata": {},
     "output_type": "display_data"
    },
    {
     "data": {
      "text/html": [
       "<div class=\"map-html-embed-preview-49aa90bd-3dce-4141-9334-387a5e4f233c\"></div>"
      ],
      "text/plain": [
       "<IPython.core.display.HTML object>"
      ]
     },
     "metadata": {},
     "output_type": "display_data"
    }
   ],
   "source": [
    "usamap = gis.map('United States', zoomlevel=4)\n",
    "usamap"
   ]
  },
  {
   "cell_type": "code",
   "execution_count": 42,
   "metadata": {
    "slideshow": {
     "slide_type": "-"
    }
   },
   "outputs": [],
   "source": [
    "for riverside in riversides_in_usa:\n",
    "    usamap.draw(riverside.geometry)"
   ]
  },
  {
   "cell_type": "markdown",
   "metadata": {},
   "source": [
    "## Conclusion"
   ]
  },
  {
   "cell_type": "markdown",
   "metadata": {},
   "source": [
    "In this part of the `arcgis.geoenrichment` module guide series, you explored several named statistical areas in a hierarchy of geography levels. You saw, in detail, how different geography levels can be queried so it can then be used for enrichment. You were introduced to `Country` class and `Country.get()` method which can be used to discover sub-geographies, data collections and available reports for a country.\n",
    "\n",
    "In the subsequent pages, you will learn about Data Collections and GeoEnrichment coverage, Generating Reports and Standard Geography Queries."
   ]
  }
 ],
 "metadata": {
  "anaconda-cloud": {},
  "kernelspec": {
   "display_name": "Python 3",
   "language": "python",
   "name": "python3"
  },
  "language_info": {
   "codemirror_mode": {
    "name": "ipython",
    "version": 3
   },
   "file_extension": ".py",
   "mimetype": "text/x-python",
   "name": "python",
   "nbconvert_exporter": "python",
   "pygments_lexer": "ipython3",
   "version": "3.9.11"
  },
  "livereveal": {
   "scroll": true
  },
  "toc": {
   "base_numbering": 1,
   "nav_menu": {},
   "number_sections": true,
   "sideBar": true,
   "skip_h1_title": true,
   "title_cell": "Table of Contents",
   "title_sidebar": "Contents",
   "toc_cell": true,
   "toc_position": {
    "height": "calc(100% - 180px)",
    "left": "10px",
    "top": "150px",
    "width": "335.188px"
   },
   "toc_section_display": true,
   "toc_window_display": true
  },
  "vscode": {
   "interpreter": {
    "hash": "07c13af76457a6f4e5d5b34d0e1bc42b2e017343b05b916c8871f483eed35ce6"
   }
  }
 },
 "nbformat": 4,
 "nbformat_minor": 2
}
